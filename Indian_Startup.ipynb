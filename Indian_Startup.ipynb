{
 "cells": [
  {
   "cell_type": "markdown",
   "id": "afcc6ef7",
   "metadata": {},
   "source": [
    "# Indian Startup Data Analysis"
   ]
  },
  {
   "cell_type": "markdown",
   "id": "fc09b711",
   "metadata": {},
   "source": [
    "# 1.0 Introduction"
   ]
  },
  {
   "cell_type": "markdown",
   "id": "f5dfff61",
   "metadata": {},
   "source": [
    "                      \n",
    "India has emerged as one of the fastest-growing startup ecosystems in the world, attracting significant investment in various \n",
    "\n",
    "sectors. The India startup funding dataset typically contains information on startup names, industry sectors, funding rounds, \n",
    "\n",
    "funding amounts, investor names, and funding dates"
   ]
  },
  {
   "cell_type": "markdown",
   "id": "c1d9b3b5",
   "metadata": {},
   "source": [
    "# 2.0 Ask"
   ]
  },
  {
   "cell_type": "markdown",
   "id": "8ec9cdd1",
   "metadata": {},
   "source": [
    "### 2.1 Hypothesis"
   ]
  },
  {
   "cell_type": "markdown",
   "id": "22da519b",
   "metadata": {},
   "source": [
    "\n",
    " H0: Funding to start-ups in India has not changed over time.\n",
    " HA: Funding to start-ups has changed over time"
   ]
  },
  {
   "cell_type": "markdown",
   "id": "90b59b3d",
   "metadata": {},
   "source": [
    "### 2.2 Questions"
   ]
  },
  {
   "cell_type": "markdown",
   "id": "752c8a31",
   "metadata": {},
   "source": [
    "To reach a final decision on whether or not to accept the hypothesis, the following questions will be answered:\n",
    "\n",
    "1.  Which start-ups are found in the capital of India?\n",
    "2.  Which start-ups are into Information technologies related business?\n",
    "3.  which industry got most of the start-up funding and why did they get such an amount?\n",
    "4.  Which industry got the least of the start-up funding. What may be the reason?\n",
    "5.  Which year recorded the most companies being formed\n",
    "6.  Which sectors receive most funding from investors?\n"
   ]
  },
  {
   "cell_type": "markdown",
   "id": "4e0e7111",
   "metadata": {},
   "source": [
    "# 3.0 Prepare & Process (Data Cleaning & Preparation)"
   ]
  },
  {
   "cell_type": "markdown",
   "id": "cfb37254",
   "metadata": {},
   "source": [
    "### 3.1 Loading the libraries and packages"
   ]
  },
  {
   "cell_type": "code",
   "execution_count": 5,
   "id": "90ad124a",
   "metadata": {},
   "outputs": [
    {
     "name": "stdout",
     "output_type": "stream",
     "text": [
      "Libraries and packages setup complete. Warnings hidden\n"
     ]
    }
   ],
   "source": [
    "# For data manipulation and cleaning\n",
    "import pandas as pd\n",
    "import numpy as np\n",
    "\n",
    "# For data visualizations\n",
    "import matplotlib.pyplot as plt\n",
    "import seaborn as sns\n",
    "\n",
    "# Other supporting libraries\n",
    "import re\n",
    "import warnings\n",
    "\n",
    "# Hiding the warnings\n",
    "warnings.filterwarnings('ignore')\n",
    "\n",
    "print(\"Libraries and packages setup complete. Warnings hidden\")"
   ]
  },
  {
   "cell_type": "markdown",
   "id": "e19c9009",
   "metadata": {},
   "source": [
    "### 3.2 Loading the datasets"
   ]
  },
  {
   "cell_type": "code",
   "execution_count": 6,
   "id": "143d5cb3",
   "metadata": {
    "scrolled": true
   },
   "outputs": [
    {
     "ename": "FileNotFoundError",
     "evalue": "[Errno 2] No such file or directory: 'startup_funding2018.csv'",
     "output_type": "error",
     "traceback": [
      "\u001b[1;31m---------------------------------------------------------------------------\u001b[0m",
      "\u001b[1;31mFileNotFoundError\u001b[0m                         Traceback (most recent call last)",
      "Input \u001b[1;32mIn [6]\u001b[0m, in \u001b[0;36m<cell line: 1>\u001b[1;34m()\u001b[0m\n\u001b[1;32m----> 1\u001b[0m data_18 \u001b[38;5;241m=\u001b[39m \u001b[43mpd\u001b[49m\u001b[38;5;241;43m.\u001b[39;49m\u001b[43mread_csv\u001b[49m\u001b[43m(\u001b[49m\u001b[38;5;124;43m\"\u001b[39;49m\u001b[38;5;124;43mstartup_funding2018.csv\u001b[39;49m\u001b[38;5;124;43m\"\u001b[39;49m\u001b[43m)\u001b[49m \u001b[38;5;66;03m# for the 2018 startup data\u001b[39;00m\n\u001b[0;32m      2\u001b[0m data_19 \u001b[38;5;241m=\u001b[39m  pd\u001b[38;5;241m.\u001b[39mread_csv(\u001b[38;5;124m\"\u001b[39m\u001b[38;5;124mstartup_funding2019.csv\u001b[39m\u001b[38;5;124m\"\u001b[39m) \u001b[38;5;66;03m# for the 2019 startup data\u001b[39;00m\n\u001b[0;32m      3\u001b[0m data_20 \u001b[38;5;241m=\u001b[39m pd\u001b[38;5;241m.\u001b[39mread_csv(\u001b[38;5;124m\"\u001b[39m\u001b[38;5;124mstartup_funding2020.csv\u001b[39m\u001b[38;5;124m\"\u001b[39m) \u001b[38;5;66;03m# for the 2020 startup data\u001b[39;00m\n",
      "File \u001b[1;32m~\\AppData\\Local\\Programs\\Python\\Python310\\lib\\site-packages\\pandas\\util\\_decorators.py:211\u001b[0m, in \u001b[0;36mdeprecate_kwarg.<locals>._deprecate_kwarg.<locals>.wrapper\u001b[1;34m(*args, **kwargs)\u001b[0m\n\u001b[0;32m    209\u001b[0m     \u001b[38;5;28;01melse\u001b[39;00m:\n\u001b[0;32m    210\u001b[0m         kwargs[new_arg_name] \u001b[38;5;241m=\u001b[39m new_arg_value\n\u001b[1;32m--> 211\u001b[0m \u001b[38;5;28;01mreturn\u001b[39;00m func(\u001b[38;5;241m*\u001b[39margs, \u001b[38;5;241m*\u001b[39m\u001b[38;5;241m*\u001b[39mkwargs)\n",
      "File \u001b[1;32m~\\AppData\\Local\\Programs\\Python\\Python310\\lib\\site-packages\\pandas\\util\\_decorators.py:331\u001b[0m, in \u001b[0;36mdeprecate_nonkeyword_arguments.<locals>.decorate.<locals>.wrapper\u001b[1;34m(*args, **kwargs)\u001b[0m\n\u001b[0;32m    325\u001b[0m \u001b[38;5;28;01mif\u001b[39;00m \u001b[38;5;28mlen\u001b[39m(args) \u001b[38;5;241m>\u001b[39m num_allow_args:\n\u001b[0;32m    326\u001b[0m     warnings\u001b[38;5;241m.\u001b[39mwarn(\n\u001b[0;32m    327\u001b[0m         msg\u001b[38;5;241m.\u001b[39mformat(arguments\u001b[38;5;241m=\u001b[39m_format_argument_list(allow_args)),\n\u001b[0;32m    328\u001b[0m         \u001b[38;5;167;01mFutureWarning\u001b[39;00m,\n\u001b[0;32m    329\u001b[0m         stacklevel\u001b[38;5;241m=\u001b[39mfind_stack_level(),\n\u001b[0;32m    330\u001b[0m     )\n\u001b[1;32m--> 331\u001b[0m \u001b[38;5;28;01mreturn\u001b[39;00m func(\u001b[38;5;241m*\u001b[39margs, \u001b[38;5;241m*\u001b[39m\u001b[38;5;241m*\u001b[39mkwargs)\n",
      "File \u001b[1;32m~\\AppData\\Local\\Programs\\Python\\Python310\\lib\\site-packages\\pandas\\io\\parsers\\readers.py:950\u001b[0m, in \u001b[0;36mread_csv\u001b[1;34m(filepath_or_buffer, sep, delimiter, header, names, index_col, usecols, squeeze, prefix, mangle_dupe_cols, dtype, engine, converters, true_values, false_values, skipinitialspace, skiprows, skipfooter, nrows, na_values, keep_default_na, na_filter, verbose, skip_blank_lines, parse_dates, infer_datetime_format, keep_date_col, date_parser, dayfirst, cache_dates, iterator, chunksize, compression, thousands, decimal, lineterminator, quotechar, quoting, doublequote, escapechar, comment, encoding, encoding_errors, dialect, error_bad_lines, warn_bad_lines, on_bad_lines, delim_whitespace, low_memory, memory_map, float_precision, storage_options)\u001b[0m\n\u001b[0;32m    935\u001b[0m kwds_defaults \u001b[38;5;241m=\u001b[39m _refine_defaults_read(\n\u001b[0;32m    936\u001b[0m     dialect,\n\u001b[0;32m    937\u001b[0m     delimiter,\n\u001b[1;32m   (...)\u001b[0m\n\u001b[0;32m    946\u001b[0m     defaults\u001b[38;5;241m=\u001b[39m{\u001b[38;5;124m\"\u001b[39m\u001b[38;5;124mdelimiter\u001b[39m\u001b[38;5;124m\"\u001b[39m: \u001b[38;5;124m\"\u001b[39m\u001b[38;5;124m,\u001b[39m\u001b[38;5;124m\"\u001b[39m},\n\u001b[0;32m    947\u001b[0m )\n\u001b[0;32m    948\u001b[0m kwds\u001b[38;5;241m.\u001b[39mupdate(kwds_defaults)\n\u001b[1;32m--> 950\u001b[0m \u001b[38;5;28;01mreturn\u001b[39;00m \u001b[43m_read\u001b[49m\u001b[43m(\u001b[49m\u001b[43mfilepath_or_buffer\u001b[49m\u001b[43m,\u001b[49m\u001b[43m \u001b[49m\u001b[43mkwds\u001b[49m\u001b[43m)\u001b[49m\n",
      "File \u001b[1;32m~\\AppData\\Local\\Programs\\Python\\Python310\\lib\\site-packages\\pandas\\io\\parsers\\readers.py:605\u001b[0m, in \u001b[0;36m_read\u001b[1;34m(filepath_or_buffer, kwds)\u001b[0m\n\u001b[0;32m    602\u001b[0m _validate_names(kwds\u001b[38;5;241m.\u001b[39mget(\u001b[38;5;124m\"\u001b[39m\u001b[38;5;124mnames\u001b[39m\u001b[38;5;124m\"\u001b[39m, \u001b[38;5;28;01mNone\u001b[39;00m))\n\u001b[0;32m    604\u001b[0m \u001b[38;5;66;03m# Create the parser.\u001b[39;00m\n\u001b[1;32m--> 605\u001b[0m parser \u001b[38;5;241m=\u001b[39m TextFileReader(filepath_or_buffer, \u001b[38;5;241m*\u001b[39m\u001b[38;5;241m*\u001b[39mkwds)\n\u001b[0;32m    607\u001b[0m \u001b[38;5;28;01mif\u001b[39;00m chunksize \u001b[38;5;129;01mor\u001b[39;00m iterator:\n\u001b[0;32m    608\u001b[0m     \u001b[38;5;28;01mreturn\u001b[39;00m parser\n",
      "File \u001b[1;32m~\\AppData\\Local\\Programs\\Python\\Python310\\lib\\site-packages\\pandas\\io\\parsers\\readers.py:1442\u001b[0m, in \u001b[0;36mTextFileReader.__init__\u001b[1;34m(self, f, engine, **kwds)\u001b[0m\n\u001b[0;32m   1439\u001b[0m     \u001b[38;5;28mself\u001b[39m\u001b[38;5;241m.\u001b[39moptions[\u001b[38;5;124m\"\u001b[39m\u001b[38;5;124mhas_index_names\u001b[39m\u001b[38;5;124m\"\u001b[39m] \u001b[38;5;241m=\u001b[39m kwds[\u001b[38;5;124m\"\u001b[39m\u001b[38;5;124mhas_index_names\u001b[39m\u001b[38;5;124m\"\u001b[39m]\n\u001b[0;32m   1441\u001b[0m \u001b[38;5;28mself\u001b[39m\u001b[38;5;241m.\u001b[39mhandles: IOHandles \u001b[38;5;241m|\u001b[39m \u001b[38;5;28;01mNone\u001b[39;00m \u001b[38;5;241m=\u001b[39m \u001b[38;5;28;01mNone\u001b[39;00m\n\u001b[1;32m-> 1442\u001b[0m \u001b[38;5;28mself\u001b[39m\u001b[38;5;241m.\u001b[39m_engine \u001b[38;5;241m=\u001b[39m \u001b[38;5;28;43mself\u001b[39;49m\u001b[38;5;241;43m.\u001b[39;49m\u001b[43m_make_engine\u001b[49m\u001b[43m(\u001b[49m\u001b[43mf\u001b[49m\u001b[43m,\u001b[49m\u001b[43m \u001b[49m\u001b[38;5;28;43mself\u001b[39;49m\u001b[38;5;241;43m.\u001b[39;49m\u001b[43mengine\u001b[49m\u001b[43m)\u001b[49m\n",
      "File \u001b[1;32m~\\AppData\\Local\\Programs\\Python\\Python310\\lib\\site-packages\\pandas\\io\\parsers\\readers.py:1735\u001b[0m, in \u001b[0;36mTextFileReader._make_engine\u001b[1;34m(self, f, engine)\u001b[0m\n\u001b[0;32m   1733\u001b[0m     \u001b[38;5;28;01mif\u001b[39;00m \u001b[38;5;124m\"\u001b[39m\u001b[38;5;124mb\u001b[39m\u001b[38;5;124m\"\u001b[39m \u001b[38;5;129;01mnot\u001b[39;00m \u001b[38;5;129;01min\u001b[39;00m mode:\n\u001b[0;32m   1734\u001b[0m         mode \u001b[38;5;241m+\u001b[39m\u001b[38;5;241m=\u001b[39m \u001b[38;5;124m\"\u001b[39m\u001b[38;5;124mb\u001b[39m\u001b[38;5;124m\"\u001b[39m\n\u001b[1;32m-> 1735\u001b[0m \u001b[38;5;28mself\u001b[39m\u001b[38;5;241m.\u001b[39mhandles \u001b[38;5;241m=\u001b[39m \u001b[43mget_handle\u001b[49m\u001b[43m(\u001b[49m\n\u001b[0;32m   1736\u001b[0m \u001b[43m    \u001b[49m\u001b[43mf\u001b[49m\u001b[43m,\u001b[49m\n\u001b[0;32m   1737\u001b[0m \u001b[43m    \u001b[49m\u001b[43mmode\u001b[49m\u001b[43m,\u001b[49m\n\u001b[0;32m   1738\u001b[0m \u001b[43m    \u001b[49m\u001b[43mencoding\u001b[49m\u001b[38;5;241;43m=\u001b[39;49m\u001b[38;5;28;43mself\u001b[39;49m\u001b[38;5;241;43m.\u001b[39;49m\u001b[43moptions\u001b[49m\u001b[38;5;241;43m.\u001b[39;49m\u001b[43mget\u001b[49m\u001b[43m(\u001b[49m\u001b[38;5;124;43m\"\u001b[39;49m\u001b[38;5;124;43mencoding\u001b[39;49m\u001b[38;5;124;43m\"\u001b[39;49m\u001b[43m,\u001b[49m\u001b[43m \u001b[49m\u001b[38;5;28;43;01mNone\u001b[39;49;00m\u001b[43m)\u001b[49m\u001b[43m,\u001b[49m\n\u001b[0;32m   1739\u001b[0m \u001b[43m    \u001b[49m\u001b[43mcompression\u001b[49m\u001b[38;5;241;43m=\u001b[39;49m\u001b[38;5;28;43mself\u001b[39;49m\u001b[38;5;241;43m.\u001b[39;49m\u001b[43moptions\u001b[49m\u001b[38;5;241;43m.\u001b[39;49m\u001b[43mget\u001b[49m\u001b[43m(\u001b[49m\u001b[38;5;124;43m\"\u001b[39;49m\u001b[38;5;124;43mcompression\u001b[39;49m\u001b[38;5;124;43m\"\u001b[39;49m\u001b[43m,\u001b[49m\u001b[43m \u001b[49m\u001b[38;5;28;43;01mNone\u001b[39;49;00m\u001b[43m)\u001b[49m\u001b[43m,\u001b[49m\n\u001b[0;32m   1740\u001b[0m \u001b[43m    \u001b[49m\u001b[43mmemory_map\u001b[49m\u001b[38;5;241;43m=\u001b[39;49m\u001b[38;5;28;43mself\u001b[39;49m\u001b[38;5;241;43m.\u001b[39;49m\u001b[43moptions\u001b[49m\u001b[38;5;241;43m.\u001b[39;49m\u001b[43mget\u001b[49m\u001b[43m(\u001b[49m\u001b[38;5;124;43m\"\u001b[39;49m\u001b[38;5;124;43mmemory_map\u001b[39;49m\u001b[38;5;124;43m\"\u001b[39;49m\u001b[43m,\u001b[49m\u001b[43m \u001b[49m\u001b[38;5;28;43;01mFalse\u001b[39;49;00m\u001b[43m)\u001b[49m\u001b[43m,\u001b[49m\n\u001b[0;32m   1741\u001b[0m \u001b[43m    \u001b[49m\u001b[43mis_text\u001b[49m\u001b[38;5;241;43m=\u001b[39;49m\u001b[43mis_text\u001b[49m\u001b[43m,\u001b[49m\n\u001b[0;32m   1742\u001b[0m \u001b[43m    \u001b[49m\u001b[43merrors\u001b[49m\u001b[38;5;241;43m=\u001b[39;49m\u001b[38;5;28;43mself\u001b[39;49m\u001b[38;5;241;43m.\u001b[39;49m\u001b[43moptions\u001b[49m\u001b[38;5;241;43m.\u001b[39;49m\u001b[43mget\u001b[49m\u001b[43m(\u001b[49m\u001b[38;5;124;43m\"\u001b[39;49m\u001b[38;5;124;43mencoding_errors\u001b[39;49m\u001b[38;5;124;43m\"\u001b[39;49m\u001b[43m,\u001b[49m\u001b[43m \u001b[49m\u001b[38;5;124;43m\"\u001b[39;49m\u001b[38;5;124;43mstrict\u001b[39;49m\u001b[38;5;124;43m\"\u001b[39;49m\u001b[43m)\u001b[49m\u001b[43m,\u001b[49m\n\u001b[0;32m   1743\u001b[0m \u001b[43m    \u001b[49m\u001b[43mstorage_options\u001b[49m\u001b[38;5;241;43m=\u001b[39;49m\u001b[38;5;28;43mself\u001b[39;49m\u001b[38;5;241;43m.\u001b[39;49m\u001b[43moptions\u001b[49m\u001b[38;5;241;43m.\u001b[39;49m\u001b[43mget\u001b[49m\u001b[43m(\u001b[49m\u001b[38;5;124;43m\"\u001b[39;49m\u001b[38;5;124;43mstorage_options\u001b[39;49m\u001b[38;5;124;43m\"\u001b[39;49m\u001b[43m,\u001b[49m\u001b[43m \u001b[49m\u001b[38;5;28;43;01mNone\u001b[39;49;00m\u001b[43m)\u001b[49m\u001b[43m,\u001b[49m\n\u001b[0;32m   1744\u001b[0m \u001b[43m\u001b[49m\u001b[43m)\u001b[49m\n\u001b[0;32m   1745\u001b[0m \u001b[38;5;28;01massert\u001b[39;00m \u001b[38;5;28mself\u001b[39m\u001b[38;5;241m.\u001b[39mhandles \u001b[38;5;129;01mis\u001b[39;00m \u001b[38;5;129;01mnot\u001b[39;00m \u001b[38;5;28;01mNone\u001b[39;00m\n\u001b[0;32m   1746\u001b[0m f \u001b[38;5;241m=\u001b[39m \u001b[38;5;28mself\u001b[39m\u001b[38;5;241m.\u001b[39mhandles\u001b[38;5;241m.\u001b[39mhandle\n",
      "File \u001b[1;32m~\\AppData\\Local\\Programs\\Python\\Python310\\lib\\site-packages\\pandas\\io\\common.py:856\u001b[0m, in \u001b[0;36mget_handle\u001b[1;34m(path_or_buf, mode, encoding, compression, memory_map, is_text, errors, storage_options)\u001b[0m\n\u001b[0;32m    851\u001b[0m \u001b[38;5;28;01melif\u001b[39;00m \u001b[38;5;28misinstance\u001b[39m(handle, \u001b[38;5;28mstr\u001b[39m):\n\u001b[0;32m    852\u001b[0m     \u001b[38;5;66;03m# Check whether the filename is to be opened in binary mode.\u001b[39;00m\n\u001b[0;32m    853\u001b[0m     \u001b[38;5;66;03m# Binary mode does not support 'encoding' and 'newline'.\u001b[39;00m\n\u001b[0;32m    854\u001b[0m     \u001b[38;5;28;01mif\u001b[39;00m ioargs\u001b[38;5;241m.\u001b[39mencoding \u001b[38;5;129;01mand\u001b[39;00m \u001b[38;5;124m\"\u001b[39m\u001b[38;5;124mb\u001b[39m\u001b[38;5;124m\"\u001b[39m \u001b[38;5;129;01mnot\u001b[39;00m \u001b[38;5;129;01min\u001b[39;00m ioargs\u001b[38;5;241m.\u001b[39mmode:\n\u001b[0;32m    855\u001b[0m         \u001b[38;5;66;03m# Encoding\u001b[39;00m\n\u001b[1;32m--> 856\u001b[0m         handle \u001b[38;5;241m=\u001b[39m \u001b[38;5;28;43mopen\u001b[39;49m\u001b[43m(\u001b[49m\n\u001b[0;32m    857\u001b[0m \u001b[43m            \u001b[49m\u001b[43mhandle\u001b[49m\u001b[43m,\u001b[49m\n\u001b[0;32m    858\u001b[0m \u001b[43m            \u001b[49m\u001b[43mioargs\u001b[49m\u001b[38;5;241;43m.\u001b[39;49m\u001b[43mmode\u001b[49m\u001b[43m,\u001b[49m\n\u001b[0;32m    859\u001b[0m \u001b[43m            \u001b[49m\u001b[43mencoding\u001b[49m\u001b[38;5;241;43m=\u001b[39;49m\u001b[43mioargs\u001b[49m\u001b[38;5;241;43m.\u001b[39;49m\u001b[43mencoding\u001b[49m\u001b[43m,\u001b[49m\n\u001b[0;32m    860\u001b[0m \u001b[43m            \u001b[49m\u001b[43merrors\u001b[49m\u001b[38;5;241;43m=\u001b[39;49m\u001b[43merrors\u001b[49m\u001b[43m,\u001b[49m\n\u001b[0;32m    861\u001b[0m \u001b[43m            \u001b[49m\u001b[43mnewline\u001b[49m\u001b[38;5;241;43m=\u001b[39;49m\u001b[38;5;124;43m\"\u001b[39;49m\u001b[38;5;124;43m\"\u001b[39;49m\u001b[43m,\u001b[49m\n\u001b[0;32m    862\u001b[0m \u001b[43m        \u001b[49m\u001b[43m)\u001b[49m\n\u001b[0;32m    863\u001b[0m     \u001b[38;5;28;01melse\u001b[39;00m:\n\u001b[0;32m    864\u001b[0m         \u001b[38;5;66;03m# Binary mode\u001b[39;00m\n\u001b[0;32m    865\u001b[0m         handle \u001b[38;5;241m=\u001b[39m \u001b[38;5;28mopen\u001b[39m(handle, ioargs\u001b[38;5;241m.\u001b[39mmode)\n",
      "\u001b[1;31mFileNotFoundError\u001b[0m: [Errno 2] No such file or directory: 'startup_funding2018.csv'"
     ]
    }
   ],
   "source": [
    "data_18 = pd.read_csv(\"startup_funding2018.csv\") # for the 2018 startup data\n",
    "data_19 =  pd.read_csv(\"startup_funding2019.csv\") # for the 2019 startup data\n",
    "data_20 = pd.read_csv(\"startup_funding2020.csv\") # for the 2020 startup data\n",
    "data_21 =  pd.read_csv(\"startup_funding2021.csv\") # for the 2021 startup data\n",
    "\n",
    "print(\"Datasets loaded.\")"
   ]
  },
  {
   "cell_type": "markdown",
   "id": "39956c0a",
   "metadata": {},
   "source": [
    "### 3.3 Previewing the Datasets & Getting Summary Information"
   ]
  },
  {
   "cell_type": "markdown",
   "id": "418f3773",
   "metadata": {},
   "source": [
    "#### 3.3.1 The 2018 Dataset"
   ]
  },
  {
   "cell_type": "code",
   "execution_count": null,
   "id": "0e56a216",
   "metadata": {},
   "outputs": [],
   "source": [
    "print(data_18.info(), \"\\n\")\n",
    "data_18"
   ]
  },
  {
   "cell_type": "markdown",
   "id": "92212867",
   "metadata": {},
   "source": [
    "#### 3.3.2 The 2019 Dataset"
   ]
  },
  {
   "cell_type": "code",
   "execution_count": null,
   "id": "6ac8e5c9",
   "metadata": {},
   "outputs": [],
   "source": [
    "print(data_19.info(), \"\\n\")\n",
    "data_19"
   ]
  },
  {
   "cell_type": "markdown",
   "id": "b8eef4c3",
   "metadata": {},
   "source": [
    "#### 3.3.2 The 2020 Dataset"
   ]
  },
  {
   "cell_type": "code",
   "execution_count": null,
   "id": "83f14838",
   "metadata": {},
   "outputs": [],
   "source": [
    "print(data_20.info(), \"\\n\")\n",
    "data_20"
   ]
  },
  {
   "cell_type": "markdown",
   "id": "e781e426",
   "metadata": {},
   "source": [
    "#### 3.3.2 The 2021 Dataset"
   ]
  },
  {
   "cell_type": "code",
   "execution_count": null,
   "id": "9fa8f794",
   "metadata": {},
   "outputs": [],
   "source": [
    "print(data_21.info(), \"\\n\")\n",
    "data_21"
   ]
  },
  {
   "cell_type": "markdown",
   "id": "baaddf6e",
   "metadata": {},
   "source": [
    "### 3.4 Observations from previewing the datasets\n",
    "**3.4.1 The 2018 DataFrame**\n",
    "- The columns in 2018 are different from those of 2019 - 2021, meaning they have to be renamed for concatenation.\n",
    "- The amounts in the 2018 DataFrame are a mix of Indian Rupees (INR) and US Dollars (USD), meaning they have to be converted into same currency.\n",
    "- The industry and location columns have multiple information. A decision is to be made between selecting the first value before the separator(,) as the main value, or representing that column with a wordcloud.\n",
    "\n",
    "**3.4.2 The 2019 DataFrame**\n",
    "- The datatype of the \"Founded\" column is set to float64. It should be set to a string for uniformity.\n",
    "- The headquarter column has multiple information. A decision is to be made between selecting the first value before the separator(,) as the main value, or representing that column with a wordcloud.\n",
    "\n",
    "**3.4.3 The 2020 DataFrame**\n",
    "- There is an extra column called \"Unnamed:9\", giving it a total of 10 columns. It should be dropped to ensure complete alignment with the other DataFrames for ease of concatenation.\n",
    "\n",
    "**3.4.4 The 2021 DataFrame**\n",
    "- The datatype of the \"Founded\" column is set to float64. It should be set to a string for uniformity.\n",
    "\n",
    "**3.4.5 General Observations**\n",
    "- The currency signs and commas have to be removed from each of amount column for each DataFrame."
   ]
  },
  {
   "cell_type": "markdown",
   "id": "5ee1e870",
   "metadata": {},
   "source": [
    "### 3.5 Assumptions"
   ]
  },
  {
   "cell_type": "markdown",
   "id": "6546c14d",
   "metadata": {},
   "source": [
    "- The 2018 average INR/USD rate will be used to convert the Indian Rupee values to US Dollars in the 2018 DataFrame.\n",
    "- First values of industry and location in the 2018 data will be selected as the primary sector and headquarters respectively.\n",
    "- Amounts without currency symbols are assumed to be in USD ($)\n",
    "- Financial analysis will be narrowed to transactions whose amounts are available in the loaded data."
   ]
  },
  {
   "cell_type": "markdown",
   "id": "38742c80",
   "metadata": {},
   "source": [
    "### 3.6 Acting on the Observations and Assumptions"
   ]
  },
  {
   "cell_type": "markdown",
   "id": "96ec0061",
   "metadata": {},
   "source": [
    "#### 3.6.1 Processing the 2018 DataFrame"
   ]
  },
  {
   "cell_type": "code",
   "execution_count": null,
   "id": "104b9edc",
   "metadata": {
    "scrolled": false
   },
   "outputs": [],
   "source": [
    "data_18"
   ]
  },
  {
   "cell_type": "code",
   "execution_count": null,
   "id": "3f700bfe",
   "metadata": {
    "scrolled": false
   },
   "outputs": [],
   "source": [
    "# Selecting the main industries of the startups as Industry\n",
    "data_18['Industry'] = data_18['Industry'].apply(str)\n",
    "data_18['Industry'] = data_18['Industry'].str.split(',').str[0]\n",
    "data_18['Industry'] = data_18['Industry'].replace(\"'\", \"\", regex=True)\n",
    "\n",
    "# Selecting the main locations of the startups as Location\n",
    "data_18['Location'] = data_18['Location'].apply(str)\n",
    "data_18['Location'] = data_18['Location'].str.split(',').str[0]\n",
    "data_18['Location'] = data_18['Location'].replace(\"'\", \"\", regex=True)\n",
    "\n",
    "data_18"
   ]
  },
  {
   "cell_type": "code",
   "execution_count": null,
   "id": "ae9541ca",
   "metadata": {},
   "outputs": [],
   "source": [
    "# Cleaning the Amounts column\n",
    "## Removing the commas and dashes from the Amounts\n",
    "data_18['Amount'] = data_18['Amount'].apply(str)\n",
    "data_18['Amount'].replace(\",\", \"\", inplace = True, regex=True)\n",
    "data_18['Amount'].replace(\"—\", 0, inplace = True, regex=True)\n",
    "data_18['Amount'].replace(\"$\", \"\", inplace = True, regex=True)\n",
    "\n",
    "## Creating temporary columns to help with the conversion of INR to USD\n",
    "data_18['INR Amount'] = data_18['Amount'].str.rsplit('₹', n = 2).str[1]\n",
    "data_18['INR Amount'] = data_18['INR Amount'].apply(float).fillna(0)\n",
    "data_18['USD Amount'] = data_18['INR Amount'] * 0.0146\n",
    "data_18['USD Amount'] = data_18['USD Amount'].replace(0, np.nan)\n",
    "data_18['USD Amount'] = data_18['USD Amount'].fillna(data_18['Amount'])\n",
    "data_18['USD Amount'] = data_18['USD Amount'].replace(\"$\", \"\", regex=True)\n",
    "data_18[\"Amount\"] = data_18[\"USD Amount\"]\n",
    "data_18[\"Amount\"] = data_18[\"Amount\"].apply(lambda x: float(str(x).replace(\"$\",\"\")))\n",
    "data_18[\"Amount\"] = data_18[\"Amount\"].replace(0, np.nan)\n",
    "\n",
    "# Dropping the temporary columns\n",
    "data_18.drop(columns = [\"INR Amount\", \"USD Amount\"], inplace = True)\n",
    "\n",
    "# Correcting the mistaken Funding Round entry\n",
    "data_18['Round/Series'] = data_18['Round/Series'].replace(\"https://docs.google.com/spreadsheets/d/1x9ziNeaz6auNChIHnMI8U6kS7knTr3byy_YBGfQaoUA/edit#gid=1861303593\", \"Seed\")\n",
    "\n",
    "# Adding a column to represent the year of funding\n",
    "data_18[\"Year of Funding\"] = \"2018\"\n",
    "\n",
    "print(data_18.info(), \"\\n\")\n",
    "data_18"
   ]
  },
  {
   "cell_type": "markdown",
   "id": "a03929eb",
   "metadata": {},
   "source": [
    "#### 3.6.2 Processing the 2019 DataFrame"
   ]
  },
  {
   "cell_type": "code",
   "execution_count": null,
   "id": "1b8caa17",
   "metadata": {},
   "outputs": [],
   "source": [
    "print(data_19.info(), \"\\n\")\n",
    "data_19"
   ]
  },
  {
   "cell_type": "code",
   "execution_count": null,
   "id": "66b1d55b",
   "metadata": {},
   "outputs": [],
   "source": [
    "# Converting the Founded column to a string\n",
    "data_19['Founded'] = data_19['Founded'].apply(str)\n",
    "\n",
    "# Removing the commas and dashes from the Amounts\n",
    "data_19[\"Amount($)\"] = data_19[\"Amount($)\"].apply(str)\n",
    "data_19[\"Amount($)\"].replace(\",\", \"\", inplace = True, regex=True)\n",
    "data_19[\"Amount($)\"].replace(\"Undisclosed\", np.nan, inplace = True, regex=True)\n",
    "data_19[\"Amount($)\"] = data_19[\"Amount($)\"].apply(lambda x: float(str(x).replace(\"$\",\"\")))\n",
    "data_19[\"Founded\"].replace(\"nan\", np.nan, inplace = True, regex=True)\n",
    "\n",
    "# Appending years of funding to the respective dataframes\n",
    "data_19[\"Year of Funding\"] = \"2019\"\n",
    "\n",
    "print(data_19.info(), \"\\n\")\n",
    "data_19"
   ]
  },
  {
   "cell_type": "markdown",
   "id": "d0768ab3",
   "metadata": {},
   "source": [
    "#### 3.6.3 Processing the 2020 DataFrame"
   ]
  },
  {
   "cell_type": "code",
   "execution_count": null,
   "id": "080252c7",
   "metadata": {},
   "outputs": [],
   "source": [
    "print(data_20.info(), \"\\n\")\n",
    "data_20"
   ]
  },
  {
   "cell_type": "code",
   "execution_count": null,
   "id": "c3a77ba4",
   "metadata": {},
   "outputs": [],
   "source": [
    "# Dropping the extra column in the 2020 DataFrame\n",
    "data_20 = data_20.iloc[: , :-1]\n",
    "data_20\n",
    "\n",
    "# Selecting the first value as Headquarters\n",
    "data_20['HeadQuarter'] = data_20['HeadQuarter'].apply(str)\n",
    "data_20['HeadQuarter'] = data_20['HeadQuarter'].str.split(',').str[0]\n",
    "data_20['HeadQuarter'] = data_20['HeadQuarter'].replace(\"'\", \"\", regex=True)\n",
    "\n",
    "# Removing the commas and dashes from the Amounts\n",
    "data_20[\"Amount($)\"] = data_20[\"Amount($)\"].apply(str)\n",
    "data_20[\"Amount($)\"].replace(\",\", \"\", inplace = True, regex=True)\n",
    "data_20[\"Amount($)\"].replace(\"Undisclosed\", np.nan, inplace = True, regex=True)\n",
    "data_20[\"Amount($)\"].replace(\"Undiclsosed\", np.nan, inplace = True, regex=True)\n",
    "data_20[\"Amount($)\"].replace(\"Undislosed\", np.nan, inplace = True, regex=True)\n",
    "data_20[\"Amount($)\"].replace(\"nan\", np.nan, inplace = True, regex=True)"
   ]
  },
  {
   "cell_type": "code",
   "execution_count": null,
   "id": "b6a6eb65",
   "metadata": {},
   "outputs": [],
   "source": [
    "# From here, it is seen that True Balance has 2 entries in this DataFrame, both representing funding they received.\n",
    "# The entry with index 465 will be dropped and the Stage for 136 corrected\n",
    "data_20.loc[data_20[\"Company/Brand\"] == \"True Balance\", \"Stage\"] = \"Series C\"\n",
    "data_20.drop([465], axis = 0, inplace = True)"
   ]
  },
  {
   "cell_type": "code",
   "execution_count": null,
   "id": "eb77ddfd",
   "metadata": {},
   "outputs": [],
   "source": [
    "# Eruditus also has an erroenously stated amount, which is to be corrected\n",
    "data_20.loc[data_20[\"Company/Brand\"] == \"Eruditus\", [\"Amount($)\", \"Stage\"]] = [113000000, \"Series D\"]\n",
    "data_20.loc[data_20[\"Company/Brand\"] == \"Eruditus\"]"
   ]
  },
  {
   "cell_type": "code",
   "execution_count": null,
   "id": "1a731e87",
   "metadata": {},
   "outputs": [],
   "source": [
    "# Removing the $ signs and converting the Amount column to float\n",
    "data_20[\"Amount($)\"] = data_20[\"Amount($)\"].apply(lambda x: float(str(x).replace(\"$\",\"\")))\n",
    "\n",
    "# Appending years of funding to the respective dataframes\n",
    "data_20[\"Year of Funding\"] = \"2020\"\n",
    "\n",
    "print(data_20.info(), \"\\n\")\n",
    "data_20"
   ]
  },
  {
   "cell_type": "markdown",
   "id": "f2c285a0",
   "metadata": {},
   "source": [
    "#### 3.6.4 Processing the 2021 DataFrame"
   ]
  },
  {
   "cell_type": "code",
   "execution_count": null,
   "id": "2c009bdc",
   "metadata": {},
   "outputs": [],
   "source": [
    "print(data_21.info(), \"\\n\")\n",
    "data_21"
   ]
  },
  {
   "cell_type": "code",
   "execution_count": null,
   "id": "45ac8d54",
   "metadata": {},
   "outputs": [],
   "source": [
    "# Converting the Founded column to a string\n",
    "data_21['Founded'] = data_21['Founded'].apply(str)\n",
    "data_21[\"Founded\"].replace(\"nan\", np.nan, inplace = True, regex=True)\n",
    "\n",
    "# Removing the commas and dashes from the Amounts\n",
    "data_21[\"Amount($)\"] = data_21[\"Amount($)\"].apply(str)\n",
    "data_21[\"Amount($)\"].replace(\",\", \"\", inplace = True, regex=True)\n",
    "data_21[\"Amount($)\"].replace(\"Undisclosed\", np.nan, inplace = True, regex=True)\n",
    "data_21[\"Amount($)\"].replace(\"Undiclsosed\", np.nan, inplace = True, regex=True)\n",
    "data_21[\"Amount($)\"].replace(\"Undislosed\", np.nan, inplace = True, regex=True)\n",
    "data_21[\"Amount($)\"].replace(\"undisclosed\", np.nan, inplace = True, regex=True)\n",
    "data_21[\"Amount($)\"].replace(\"nan\", np.nan, inplace = True, regex=True)"
   ]
  },
  {
   "cell_type": "code",
   "execution_count": null,
   "id": "543d1f4d",
   "metadata": {},
   "outputs": [],
   "source": [
    "# FanPlay has duplicates with indexes 1768 and 1781, and has wrongly placed amounts.\n",
    "data_21.drop([98], axis = 0, inplace = True)\n",
    "\n",
    "data_21.loc[data_21[\"Company/Brand\"] == \"FanPlay\", [\"Amount($)\", \"Stage\", \"Investor\"]] = [1200000, \"Series A\", \"Upsparks\"]\n",
    "data_21.loc[data_21[\"Company/Brand\"] == \"FanPlay\"]"
   ]
  },
  {
   "cell_type": "code",
   "execution_count": null,
   "id": "ccbb9304",
   "metadata": {},
   "outputs": [],
   "source": [
    "# For Fullife Healthcare, the entries with indexes 1912 and 1926 both represent Series C funding raised in 2021. One has to be deleted.\n",
    "data_21.loc[data_21[\"Company/Brand\"] == \"Fullife Healthcare\", [\"Amount($)\", \"Stage\", \"Investor\"]] = [22000000, \"Series C\", \"Morgan Stanley Private Equity Asia\"]\n",
    "data_21.drop([256], axis = 0, inplace = True)\n",
    "data_21.loc[data_21[\"Company/Brand\"] == \"Fullife Healthcare\"]"
   ]
  },
  {
   "cell_type": "code",
   "execution_count": null,
   "id": "353cc17b",
   "metadata": {},
   "outputs": [],
   "source": [
    "# Yet another error is thrown when trying to convert Amount to a float, this time by an entry \"Seed\", which has to be checked and corrected\n",
    "data_21.loc[data_21[\"Amount($)\"] == \"Seed\"]\n",
    "\n",
    "# Correcting for MoEVing\n",
    "data_21.loc[data_21[\"Company/Brand\"] == \"MoEVing\", [\"Amount($)\", \"Stage\", \"Investor\"]] = [5000000, \"Seed\", np.nan]\n",
    "\n",
    "# Correcting for Godamwale\n",
    "data_21.loc[data_21[\"Company/Brand\"] == \"Godamwale\", [\"Amount($)\", \"Stage\", \"Investor\"]] = [1000000, \"Seed\", \"Anand Aryamane\"]"
   ]
  },
  {
   "cell_type": "code",
   "execution_count": null,
   "id": "f110b976",
   "metadata": {},
   "outputs": [],
   "source": [
    "# A similar error is thrown again, by an entry \"ah! Ventures\", which has to be checked and corrected\n",
    "data_21.loc[data_21[\"Amount($)\"] == \"ah! Ventures\"]\n",
    "\n",
    "data_21.loc[data_21[\"Company/Brand\"] == \"Little Leap\", [\"Amount($)\", \"Stage\", \"Investor\"]] = [int(26700000/73.9339), \"Seed\", \"ah! Ventures\"]\n",
    "data_21.loc[data_21[\"Company/Brand\"] == \"Little Leap\"]"
   ]
  },
  {
   "cell_type": "code",
   "execution_count": null,
   "id": "695e504c",
   "metadata": {},
   "outputs": [],
   "source": [
    "# A similar error is thrown again, by an entry \"Pre-series A\", which has to be checked and corrected\n",
    "data_21.loc[data_21[\"Amount($)\"] == \"Pre-series A\"]\n",
    "\n",
    "data_21.loc[data_21[\"Company/Brand\"] == \"AdmitKard\", [\"Amount($)\", \"Stage\", \"Investor\"]] = [int(26700000/73.9339), \"Pre-series A\", np.nan]\n",
    "data_21.loc[data_21[\"Company/Brand\"] == \"AdmitKard\"]"
   ]
  },
  {
   "cell_type": "code",
   "execution_count": null,
   "id": "8f679600",
   "metadata": {},
   "outputs": [],
   "source": [
    "# A similar error is thrown again, by an entry \"ITO Angel Network LetsVenture\", which has to be checked and corrected\n",
    "data_21.loc[data_21[\"Amount($)\"] == \"ITO Angel Network LetsVenture\"]\n",
    "\n",
    "data_21.loc[data_21[\"Amount($)\"] == \"ITO Angel Network LetsVenture\", [\"Amount($)\", \"Stage\", \"Investor\"]] = [300000, \"Angel\", \"ITO Angel Network LetsVenture\"]\n",
    "data_21.loc[data_21[\"Company/Brand\"] == \"BHyve\"]"
   ]
  },
  {
   "cell_type": "code",
   "execution_count": null,
   "id": "e0cc7215",
   "metadata": {},
   "outputs": [],
   "source": [
    "# A similar error is thrown again, by an entry \"ITO Angel Network LetsVenture\", which has to be checked and corrected\n",
    "data_21.loc[data_21[\"Amount($)\"] == \"JITO Angel Network LetsVenture\"]\n",
    "\n",
    "data_21.loc[data_21[\"Amount($)\"] == \"JITO Angel Network LetsVenture\", [\"Amount($)\", \"Stage\"]] = [1000000, \"Seed\"]\n",
    "data_21.loc[data_21[\"Company/Brand\"] == \"Saarthi Pedagogy\"]"
   ]
  },
  {
   "cell_type": "code",
   "execution_count": null,
   "id": "98c889ca",
   "metadata": {},
   "outputs": [],
   "source": [
    "data_21.loc[data_21[\"Stage\"] == \"$6000000\"]\n",
    "\n",
    "data_21.loc[data_21[\"Stage\"] == \"$6000000\", [\"Amount($)\", \"Stage\"]] = [9627286, \"Venture\"]\n",
    "data_21.loc[data_21[\"Company/Brand\"] == \"MYRE Capital\"]"
   ]
  },
  {
   "cell_type": "code",
   "execution_count": null,
   "id": "bece14aa",
   "metadata": {},
   "outputs": [],
   "source": [
    "data_21[\"Amount($)\"].replace('', 0, inplace = True, regex=True)\n",
    "data_21[\"Amount($)\"] = data_21[\"Amount($)\"].apply(lambda x: str(x).replace(\"$\",\"\"))\n",
    "data_21[\"Amount($)\"].replace('nan', 0, inplace = True, regex=True)\n",
    "data_21[\"Amount($)\"] = pd.to_numeric(data_21[\"Amount($)\"])\n",
    "data_21[\"Amount($)\"] = data_21[\"Amount($)\"].apply(float)\n",
    "\n",
    "# Appending years of funding to the respective dataframes\n",
    "data_21[\"Year of Funding\"] = \"2021\"\n",
    "\n",
    "print(data_21.info(), \"\\n\")\n",
    "data_21"
   ]
  },
  {
   "cell_type": "markdown",
   "id": "26388a95",
   "metadata": {},
   "source": [
    "### 3.7 Joining all the DataFrames into a combined DataFrame"
   ]
  },
  {
   "cell_type": "code",
   "execution_count": null,
   "id": "ca09aae5",
   "metadata": {},
   "outputs": [],
   "source": [
    "# Joining the DataFrames with similar column names\n",
    "combined_19_21 = pd.concat([data_19, data_20, data_21], ignore_index = True)\n",
    "combined_19_21.columns = [\"Company Name\", \"Year Founded\", \"Headquarters\", \"Sector\", \"Description\", \"Founders\", \"Investors\", \"Amount\", \"Funding Stage\", \"Funding Year\"]\n",
    "combined_19_21"
   ]
  },
  {
   "cell_type": "code",
   "execution_count": null,
   "id": "2f2a5e64",
   "metadata": {
    "scrolled": true
   },
   "outputs": [],
   "source": [
    "# Renaming the columns in the 2018 dataframe to match with the other dataframes\n",
    "data_18.columns = ['Company Name', 'Sector', 'Funding Stage', 'Amount', 'Headquarters', 'Description', \"Funding Year\"]\n",
    "data_18"
   ]
  },
  {
   "cell_type": "code",
   "execution_count": null,
   "id": "3a4505dd",
   "metadata": {},
   "outputs": [],
   "source": [
    "# Joining the 2018 DataFrame to the 2019-2021 DataFrame\n",
    "complete_set = pd.concat([data_18, combined_19_21], ignore_index = True)\n",
    "print(complete_set.info(), \"\\n\")\n",
    "complete_set"
   ]
  },
  {
   "cell_type": "code",
   "execution_count": null,
   "id": "8d13140f",
   "metadata": {
    "scrolled": false
   },
   "outputs": [],
   "source": [
    "# Converting various columns into appropriate formats\n",
    "complete_set['Amount'] = complete_set['Amount'].replace(np.nan, 0)\n",
    "complete_set['Amount'] = complete_set['Amount'].apply(int)\n",
    "complete_set[\"Funding Year\"] = complete_set[\"Funding Year\"].apply(str)\n",
    "complete_set[\"Year Founded\"] = complete_set[\"Year Founded\"].apply(str)\n",
    "\n",
    "# Dropping all duplicates from the combined DataFrame\n",
    "complete_set.drop_duplicates(inplace = True)\n",
    "complete_set.reset_index(drop=True, inplace = True)\n",
    "\n",
    "# Taking a final look at the Complete Set\n",
    "print(complete_set.nunique(), \"\\n\")\n",
    "complete_set"
   ]
  },
  {
   "cell_type": "code",
   "execution_count": null,
   "id": "be2a6972",
   "metadata": {
    "hide_input": true
   },
   "outputs": [],
   "source": [
    "# Exporting to have a look at the DataFrame in Excel\n",
    "complete_set.to_csv(\"complete_set.csv\", index = False)"
   ]
  },
  {
   "cell_type": "markdown",
   "id": "1b41f5c4",
   "metadata": {},
   "source": [
    "### 3.8 Checking the integrity of the combined DataFrame"
   ]
  },
  {
   "cell_type": "markdown",
   "id": "7a7a20b9",
   "metadata": {},
   "source": [
    "#### 3.8.1 Company Name"
   ]
  },
  {
   "cell_type": "code",
   "execution_count": null,
   "id": "ef87b6cc",
   "metadata": {
    "scrolled": true
   },
   "outputs": [],
   "source": [
    "unique_companies = (complete_set.loc[:,\"Company Name\"]).value_counts()\n",
    "unique_companies"
   ]
  },
  {
   "cell_type": "code",
   "execution_count": null,
   "id": "1115c27e",
   "metadata": {
    "scrolled": false
   },
   "outputs": [],
   "source": [
    "# Capitalizing only the first letters of each entry in the column for normalization\n",
    "complete_set[\"Company Name\"] = complete_set[\"Company Name\"].apply(lambda x: str(x).capitalize())\n",
    "\n",
    "# Correcting the misspelt names of startups\n",
    "complete_set.loc[complete_set[\"Company Name\"] == \"Byju\", \"Company Name\"] = \"Byju's\"\n",
    "\n",
    "# Reassigning the dataframe and previewing it\n",
    "unique_companies = (complete_set.loc[:,\"Company Name\"]).value_counts()\n",
    "unique_companies.head(10)"
   ]
  },
  {
   "cell_type": "code",
   "execution_count": null,
   "id": "31406caa",
   "metadata": {
    "scrolled": true
   },
   "outputs": [],
   "source": [
    "unique_companies.head(10).sort_values().plot.barh()"
   ]
  },
  {
   "cell_type": "markdown",
   "id": "b251e70c",
   "metadata": {},
   "source": [
    "From here, we note that Bharatpe (10), Byju's (10) and Zomato (7) were the startups involved in most deals over the period. Let's take a closer look at them."
   ]
  },
  {
   "cell_type": "code",
   "execution_count": null,
   "id": "e6b5a538",
   "metadata": {
    "scrolled": true
   },
   "outputs": [],
   "source": [
    "complete_set.loc[(complete_set[\"Company Name\"] == \"Bharatpe\") | \n",
    "                 (complete_set[\"Company Name\"] == \"Byju's\") | \n",
    "                 (complete_set[\"Company Name\"] == \"Zomato\")]"
   ]
  },
  {
   "cell_type": "markdown",
   "id": "47a4c474",
   "metadata": {},
   "source": [
    "We note from the above that the top 3 startups involved in most funding deals are located in 3 different locations and operate in 3 different sectors."
   ]
  },
  {
   "cell_type": "markdown",
   "id": "07a3239a",
   "metadata": {},
   "source": [
    "#### 3.8.2 Sector"
   ]
  },
  {
   "cell_type": "code",
   "execution_count": null,
   "id": "26d4395c",
   "metadata": {
    "scrolled": true
   },
   "outputs": [],
   "source": [
    "unique_sectors = (complete_set.loc[:,\"Sector\"]).value_counts()\n",
    "unique_sectors"
   ]
  },
  {
   "cell_type": "code",
   "execution_count": null,
   "id": "7e7b3b5f",
   "metadata": {
    "scrolled": true
   },
   "outputs": [],
   "source": [
    "# Capitalizing only the first letters of each entry in the Sector column for normalization\n",
    "complete_set[\"Sector\"] = complete_set[\"Sector\"].apply(lambda x: str(x).capitalize())\n",
    "\n",
    "# Equating similar entries in the Sector column for ease of analysis\n",
    "complete_set[\"Sector\"] = complete_set[\"Sector\"].apply(lambda x: str(x).replace(\" and \", \" & \"))\n",
    "complete_set[\"Sector\"] = complete_set[\"Sector\"].apply(lambda x: str(x).replace(\"startup\", \"\"))\n",
    "complete_set[\"Sector\"] = complete_set[\"Sector\"].apply(lambda x: str(x).replace(\"  \", \" \"))\n",
    "complete_set.loc[complete_set[\"Sector\"] == \"nan\", \"Sector\"] = \"Sector TBD\"\n",
    "complete_set.loc[complete_set[\"Sector\"] == \"â€”\", \"Sector\"] = \"Sector TBD\""
   ]
  },
  {
   "cell_type": "code",
   "execution_count": null,
   "id": "d1af09de",
   "metadata": {
    "hide_input": false
   },
   "outputs": [],
   "source": [
    "# Equating similar entries in the Sector column for ease of analysis (2)\n",
    "complete_set.loc[complete_set[\"Sector\"] == \"Accomodation\", \"Sector\"] = \"Housing & real estate\"\n",
    "complete_set.loc[complete_set[\"Sector\"] == \"Accounting\", \"Sector\"] = \"Financial services\"\n",
    "complete_set.loc[complete_set[\"Sector\"] == \"Ad-tech\", \"Sector\"] = \"Advertising, marketing & sales\"\n",
    "complete_set.loc[complete_set[\"Sector\"] == \"Advertisement\", \"Sector\"] = \"Advertising, marketing & sales\"\n",
    "complete_set.loc[complete_set[\"Sector\"] == \"Advertising\", \"Sector\"] = \"Advertising, marketing & sales\"\n",
    "complete_set.loc[complete_set[\"Sector\"] == \"Advisory firm\", \"Sector\"] = \"Advisory & consultancy\"\n",
    "complete_set.loc[complete_set[\"Sector\"] == \"Aeorspace\", \"Sector\"] = \"Aviation & aerospace\"\n",
    "complete_set.loc[complete_set[\"Sector\"] == \"Aero company\", \"Sector\"] = \"Aviation & aerospace\"\n",
    "complete_set.loc[complete_set[\"Sector\"] == \"Aerospace\", \"Sector\"] = \"Aviation & aerospace\"\n",
    "complete_set.loc[complete_set[\"Sector\"] == \"Agri tech\", \"Sector\"] = \"Agriculture & agritech\"\n",
    "complete_set.loc[complete_set[\"Sector\"] == \"Agriculture\", \"Sector\"] = \"Agriculture & agritech\"\n",
    "complete_set.loc[complete_set[\"Sector\"] == \"Agritech\", \"Sector\"] = \"Agriculture & agritech\"\n",
    "complete_set.loc[complete_set[\"Sector\"] == \"Agritech/commerce\", \"Sector\"] = \"Agriculture & agritech\"\n",
    "complete_set.loc[complete_set[\"Sector\"] == \"Agtech\", \"Sector\"] = \"Agriculture & agritech\"\n",
    "complete_set.loc[complete_set[\"Sector\"] == \"Ai & data science\", \"Sector\"] = \"Ai\"\n",
    "complete_set.loc[complete_set[\"Sector\"] == \"Ai & debt\", \"Sector\"] = \"Ai\"\n",
    "complete_set.loc[complete_set[\"Sector\"] == \"Ai & deep learning\", \"Sector\"] = \"Ai\"\n",
    "complete_set.loc[complete_set[\"Sector\"] == \"Ai & media\", \"Sector\"] = \"Ai\"\n",
    "complete_set.loc[complete_set[\"Sector\"] == \"Ai & tech\", \"Sector\"] = \"Ai\"\n",
    "complete_set.loc[complete_set[\"Sector\"] == \"Ai chatbot\", \"Sector\"] = \"Ai\"\n",
    "complete_set.loc[complete_set[\"Sector\"] == \"Ai company\", \"Sector\"] = \"Ai\"\n",
    "complete_set.loc[complete_set[\"Sector\"] == \"Ai health\", \"Sector\"] = \"Ai\"\n",
    "complete_set.loc[complete_set[\"Sector\"] == \"Ai platform\", \"Sector\"] = \"Ai\"\n",
    "complete_set.loc[complete_set[\"Sector\"] == \"Ai robotics\", \"Sector\"] = \"Ai\"\n",
    "complete_set.loc[complete_set[\"Sector\"] == \"Ai\", \"Sector\"] = \"Ai\"\n",
    "complete_set.loc[complete_set[\"Sector\"] == \"Air transportation\", \"Sector\"] = \"Aviation & aerospace\"\n",
    "complete_set.loc[complete_set[\"Sector\"] == \"Alternative medicine\", \"Sector\"] = \"Medical\"\n",
    "complete_set.loc[complete_set[\"Sector\"] == \"Analytics\", \"Sector\"] = \"Data science & analytics\"\n",
    "complete_set.loc[complete_set[\"Sector\"] == \"Appliance\", \"Sector\"] = \"Appliances & Electronics\"\n",
    "complete_set.loc[complete_set[\"Sector\"] == \"Apps\", \"Sector\"] = \"Software\"\n",
    "complete_set.loc[complete_set[\"Sector\"] == \"Ar platform\", \"Sector\"] = \"Ar/vr\"\n",
    "complete_set.loc[complete_set[\"Sector\"] == \"Ar\", \"Sector\"] = \"Ar/vr\"\n",
    "complete_set.loc[complete_set[\"Sector\"] == \"Ar/vr\", \"Sector\"] = \"Ar/vr\"\n",
    "complete_set.loc[complete_set[\"Sector\"] == \"Artificial intelligence\", \"Sector\"] = \"Ai\"\n",
    "complete_set.loc[complete_set[\"Sector\"] == \"Audio\", \"Sector\"] = \"Entertainment\"\n",
    "complete_set.loc[complete_set[\"Sector\"] == \"Augmented reality\", \"Sector\"] = \"Ar/vr\"\n",
    "complete_set.loc[complete_set[\"Sector\"] == \"Auto-tech\", \"Sector\"] = \"Automation tech\"\n",
    "complete_set.loc[complete_set[\"Sector\"] == \"Automation\", \"Sector\"] = \"Automation tech\"\n",
    "complete_set.loc[complete_set[\"Sector\"] == \"Automobile & technology\", \"Sector\"] = \"Automobiles & automotives\"\n",
    "complete_set.loc[complete_set[\"Sector\"] == \"Automobile technology\", \"Sector\"] = \"Automobiles & automotives\"\n",
    "complete_set.loc[complete_set[\"Sector\"] == \"Automobile\", \"Sector\"] = \"Automobiles & automotives\"\n",
    "complete_set.loc[complete_set[\"Sector\"] == \"Automobiles\", \"Sector\"] = \"Automobiles & automotives\"\n",
    "complete_set.loc[complete_set[\"Sector\"] == \"Automotive & rentals\", \"Sector\"] = \"Automobiles & automotives\"\n",
    "complete_set.loc[complete_set[\"Sector\"] == \"Automotive and rentals\", \"Sector\"] = \"Automobiles & automotives\"\n",
    "complete_set.loc[complete_set[\"Sector\"] == \"Automotive company\", \"Sector\"] = \"Automobiles & automotives\"\n",
    "complete_set.loc[complete_set[\"Sector\"] == \"Automotive tech\", \"Sector\"] = \"Automobiles & automotives\"\n",
    "complete_set.loc[complete_set[\"Sector\"] == \"Automotive\", \"Sector\"] = \"Automobiles & automotives\"\n",
    "complete_set.loc[complete_set[\"Sector\"] == \"Autonomous vehicles\", \"Sector\"] = \"Automobiles & automotives\"\n",
    "complete_set.loc[complete_set[\"Sector\"] == \"Aviation\", \"Sector\"] = \"Aviation & aerospace\"\n",
    "complete_set.loc[complete_set[\"Sector\"] == \"Ayurveda tech\", \"Sector\"] = \"Medicine & healthcare\"\n",
    "complete_set.loc[complete_set[\"Sector\"] == \"B2b agritech\", \"Sector\"] = \"Agriculture & agritech\"\n",
    "complete_set.loc[complete_set[\"Sector\"] == \"B2b e-commerce\", \"Sector\"] = \"E-commerce\"\n",
    "complete_set.loc[complete_set[\"Sector\"] == \"B2b ecommerce\", \"Sector\"] = \"E-commerce\"\n",
    "complete_set.loc[complete_set[\"Sector\"] == \"B2b manufacturing\", \"Sector\"] = \"Manufacturing\"\n",
    "complete_set.loc[complete_set[\"Sector\"] == \"B2b marketplace\", \"Sector\"] = \"E-commerce\"\n",
    "complete_set.loc[complete_set[\"Sector\"] == \"B2b service\", \"Sector\"] = \"B2b\"\n",
    "complete_set.loc[complete_set[\"Sector\"] == \"B2b supply chain\", \"Sector\"] = \"Logistics & supply chain\"\n",
    "complete_set.loc[complete_set[\"Sector\"] == \"B2b travel\", \"Sector\"] = \"Travel & Transport\"\n",
    "complete_set.loc[complete_set[\"Sector\"] == \"B2b\", \"Sector\"] = \"B2b\"\n",
    "complete_set.loc[complete_set[\"Sector\"] == \"Banking\", \"Sector\"] = \"Financial Services\"\n",
    "complete_set.loc[complete_set[\"Sector\"] == \"Battery design\", \"Sector\"] = \"Battery\"\n",
    "complete_set.loc[complete_set[\"Sector\"] == \"Battery manufacturer\", \"Sector\"] = \"Battery\"\n",
    "complete_set.loc[complete_set[\"Sector\"] == \"Beauty & wellness\", \"Sector\"] = \"Beauty\"\n",
    "complete_set.loc[complete_set[\"Sector\"] == \"Beauty products\", \"Sector\"] = \"Beauty\"\n",
    "complete_set.loc[complete_set[\"Sector\"] == \"Beverage\", \"Sector\"] = \"Consumer goods & services\"\n",
    "complete_set.loc[complete_set[\"Sector\"] == \"Beverage\", \"Sector\"] = \"Food & Nutrition\"\n",
    "complete_set.loc[complete_set[\"Sector\"] == \"Beverages\", \"Sector\"] = \"Consumer goods & services\"\n",
    "complete_set.loc[complete_set[\"Sector\"] == \"Big data\", \"Sector\"] = \"Data science & analytics\"\n",
    "complete_set.loc[complete_set[\"Sector\"] == \"Bike marketplace\", \"Sector\"] = \"Bike services\"\n",
    "complete_set.loc[complete_set[\"Sector\"] == \"Bike rental\", \"Sector\"] = \"Bike services\"\n",
    "complete_set.loc[complete_set[\"Sector\"] == \"Biopharma\", \"Sector\"] = \"Pharmaceutical\"\n",
    "complete_set.loc[complete_set[\"Sector\"] == \"Biotech\", \"Sector\"] = \"Biotechnology\"\n",
    "complete_set.loc[complete_set[\"Sector\"] == \"Biotechnology company\", \"Sector\"] = \"Biotechnology\"\n",
    "complete_set.loc[complete_set[\"Sector\"] == \"Biotechnology\", \"Sector\"] = \"Biotechnology\"\n",
    "complete_set.loc[complete_set[\"Sector\"] == \"Blockchain\", \"Sector\"] = \"Cryptocurrency\"\n",
    "complete_set.loc[complete_set[\"Sector\"] == \"Blogging\", \"Sector\"] = \"Content services\"\n",
    "complete_set.loc[complete_set[\"Sector\"] == \"Brand marketing\", \"Sector\"] = \"Advertising, marketing & sales\"\n",
    "complete_set.loc[complete_set[\"Sector\"] == \"Broadcasting\", \"Sector\"] = \"Information services\"\n",
    "complete_set.loc[complete_set[\"Sector\"] == \"Business development\", \"Sector\"] = \"Advisory & consultancy\"\n",
    "complete_set.loc[complete_set[\"Sector\"] == \"Business intelligence\", \"Sector\"] = \"Data science & analytics\"\n",
    "complete_set.loc[complete_set[\"Sector\"] == \"Business travel\", \"Sector\"] = \"Travel & Transport\"\n",
    "complete_set.loc[complete_set[\"Sector\"] == \"Cannabis\", \"Sector\"] = \"Agriculture & agritech\"\n",
    "complete_set.loc[complete_set[\"Sector\"] == \"Capital markets\", \"Sector\"] = \"Financial services\"\n",
    "complete_set.loc[complete_set[\"Sector\"] == \"Car service\", \"Sector\"] = \"Automobiles & automotives\"\n",
    "complete_set.loc[complete_set[\"Sector\"] == \"Car trade\", \"Sector\"] = \"Automobiles & automotives\"\n",
    "complete_set.loc[complete_set[\"Sector\"] == \"Catering\", \"Sector\"] = \"Food & Nutrition\"\n",
    "complete_set.loc[complete_set[\"Sector\"] == \"Children\", \"Sector\"] = \"Child care\"\n",
    "complete_set.loc[complete_set[\"Sector\"] == \"Classifieds\", \"Sector\"] = \"E-commerce\"\n",
    "complete_set.loc[complete_set[\"Sector\"] == \"Clean energy\", \"Sector\"] = \"Clean energy\"\n",
    "complete_set.loc[complete_set[\"Sector\"] == \"Clean energy\", \"Sector\"] = \"Energy\"\n",
    "complete_set.loc[complete_set[\"Sector\"] == \"Cleantech\", \"Sector\"] = \"Clean energy\"\n",
    "complete_set.loc[complete_set[\"Sector\"] == \"Cleantech\", \"Sector\"] = \"Energy\"\n",
    "complete_set.loc[complete_set[\"Sector\"] == \"Clothing\", \"Sector\"] = \"Apparel & fashion\"\n",
    "complete_set.loc[complete_set[\"Sector\"] == \"Cloud company\", \"Sector\"] = \"Cloud computing\"\n",
    "complete_set.loc[complete_set[\"Sector\"] == \"Cloud infrastructure\", \"Sector\"] = \"Cloud computing\"\n",
    "complete_set.loc[complete_set[\"Sector\"] == \"Commerce\", \"Sector\"] = \"Advertising, marketing & sales\"\n",
    "complete_set.loc[complete_set[\"Sector\"] == \"Commercial real estate\", \"Sector\"] = \"Housing & real estate\"\n",
    "complete_set.loc[complete_set[\"Sector\"] == \"Commercial\", \"Sector\"] = \"Advertising, marketing & sales\"\n",
    "complete_set.loc[complete_set[\"Sector\"] == \"Communities\", \"Sector\"] = \"Social media & communities\"\n",
    "complete_set.loc[complete_set[\"Sector\"] == \"Communities\", \"Sector\"] = \"Social media & networking\"\n",
    "complete_set.loc[complete_set[\"Sector\"] == \"Community platform\", \"Sector\"] = \"Social media & communities\"\n",
    "complete_set.loc[complete_set[\"Sector\"] == \"Community platform\", \"Sector\"] = \"Social media & networking\"\n",
    "complete_set.loc[complete_set[\"Sector\"] == \"Community\", \"Sector\"] = \"Social media & communities\"\n",
    "complete_set.loc[complete_set[\"Sector\"] == \"Community\", \"Sector\"] = \"Social media & networking\"\n",
    "complete_set.loc[complete_set[\"Sector\"] == \"Computer games\", \"Sector\"] = \"Games\"\n",
    "complete_set.loc[complete_set[\"Sector\"] == \"Computer software\", \"Sector\"] = \"Software\"\n",
    "complete_set.loc[complete_set[\"Sector\"] == \"Construction tech\", \"Sector\"] = \"Construction\"\n",
    "complete_set.loc[complete_set[\"Sector\"] == \"Consultancy\", \"Sector\"] = \"Advisory & consultancy\"\n",
    "complete_set.loc[complete_set[\"Sector\"] == \"Consulting\", \"Sector\"] = \"Advisory & consultancy\"\n",
    "complete_set.loc[complete_set[\"Sector\"] == \"Consumer appliances\", \"Sector\"] = \"Consumer goods & services\"\n",
    "complete_set.loc[complete_set[\"Sector\"] == \"Consumer applications\", \"Sector\"] = \"Consumer goods & services\"\n",
    "complete_set.loc[complete_set[\"Sector\"] == \"Consumer electronics\", \"Sector\"] = \"Consumer goods & services\"\n",
    "complete_set.loc[complete_set[\"Sector\"] == \"Consumer goods\", \"Sector\"] = \"Consumer goods & services\"\n",
    "complete_set.loc[complete_set[\"Sector\"] == \"Consumer lending\", \"Sector\"] = \"Financial services\"\n",
    "complete_set.loc[complete_set[\"Sector\"] == \"Consumer service\", \"Sector\"] = \"Consumer goods & services\"\n",
    "complete_set.loc[complete_set[\"Sector\"] == \"Consumer services\", \"Sector\"] = \"Consumer goods & services\"\n",
    "complete_set.loc[complete_set[\"Sector\"] == \"Consumer software\", \"Sector\"] = \"Consumer goods & services\"\n",
    "complete_set.loc[complete_set[\"Sector\"] == \"Consumer software\", \"Sector\"] = \"Software\"\n",
    "complete_set.loc[complete_set[\"Sector\"] == \"Consumer\", \"Sector\"] = \"Consumer goods & services\"\n",
    "complete_set.loc[complete_set[\"Sector\"] == \"Content commerce\", \"Sector\"] = \"Content services\"\n",
    "complete_set.loc[complete_set[\"Sector\"] == \"Content creation\", \"Sector\"] = \"Content services\"\n",
    "complete_set.loc[complete_set[\"Sector\"] == \"Content management\", \"Sector\"] = \"Content services\"\n",
    "complete_set.loc[complete_set[\"Sector\"] == \"Content marketplace\", \"Sector\"] = \"Content services\"\n",
    "complete_set.loc[complete_set[\"Sector\"] == \"Content marktplace\", \"Sector\"] = \"Content services\"\n",
    "complete_set.loc[complete_set[\"Sector\"] == \"Content publishing\", \"Sector\"] = \"Content services\"\n",
    "complete_set.loc[complete_set[\"Sector\"] == \"Continuing education\", \"Sector\"] = \"Education\"\n",
    "complete_set.loc[complete_set[\"Sector\"] == \"Conversational ai platform\", \"Sector\"] = \"Ai\"\n",
    "complete_set.loc[complete_set[\"Sector\"] == \"Cooking\", \"Sector\"] = \"Food & Nutrition\"\n",
    "complete_set.loc[complete_set[\"Sector\"] == \"Cosmetics\", \"Sector\"] = \"Beauty\"\n",
    "complete_set.loc[complete_set[\"Sector\"] == \"Coworking\", \"Sector\"] = \"Co-working\"\n",
    "complete_set.loc[complete_set[\"Sector\"] == \"Creative agency\", \"Sector\"] = \"Arts & crafts\"\n",
    "complete_set.loc[complete_set[\"Sector\"] == \"Credit cards\", \"Sector\"] = \"Financial Services\"\n",
    "complete_set.loc[complete_set[\"Sector\"] == \"Credit\", \"Sector\"] = \"Financial Services\"\n",
    "complete_set.loc[complete_set[\"Sector\"] == \"Crm\", \"Sector\"] = \"Customer service\"\n",
    "complete_set.loc[complete_set[\"Sector\"] == \"Crypto\", \"Sector\"] = \"Cryptocurrency\"\n",
    "complete_set.loc[complete_set[\"Sector\"] == \"Customer service company\", \"Sector\"] = \"Customer service\"\n",
    "complete_set.loc[complete_set[\"Sector\"] == \"Cybersecurity\", \"Sector\"] = \"Computer & network security\"\n",
    "complete_set.loc[complete_set[\"Sector\"] == \"D2c business\", \"Sector\"] = \"D2c\"\n",
    "complete_set.loc[complete_set[\"Sector\"] == \"D2c fashion\", \"Sector\"] = \"Apparel & fashion\"\n",
    "complete_set.loc[complete_set[\"Sector\"] == \"D2c jewellery\", \"Sector\"] = \"Jewellery\"\n",
    "complete_set.loc[complete_set[\"Sector\"] == \"Dairy\", \"Sector\"] = \"Food & Nutrition\"\n",
    "complete_set.loc[complete_set[\"Sector\"] == \"Data analytics\", \"Sector\"] = \"Data science & analytics\"\n",
    "complete_set.loc[complete_set[\"Sector\"] == \"Data intelligence\", \"Sector\"] = \"Data science & analytics\"\n",
    "complete_set.loc[complete_set[\"Sector\"] == \"Data science\", \"Sector\"] = \"Data science & analytics\"\n",
    "complete_set.loc[complete_set[\"Sector\"] == \"Dating app\", \"Sector\"] = \"Social media & networking\"\n",
    "complete_set.loc[complete_set[\"Sector\"] == \"Dating\", \"Sector\"] = \"Social media & networking\"\n",
    "complete_set.loc[complete_set[\"Sector\"] == \"Deep tech ai\", \"Sector\"] = \"Deep Tech\"\n",
    "complete_set.loc[complete_set[\"Sector\"] == \"Deep tech\", \"Sector\"] = \"Deep Tech\"\n",
    "complete_set.loc[complete_set[\"Sector\"] == \"Deeptech\", \"Sector\"] = \"Deep Tech\"\n",
    "complete_set.loc[complete_set[\"Sector\"] == \"Defense & space\", \"Sector\"] = \"Defense\"\n",
    "complete_set.loc[complete_set[\"Sector\"] == \"Defense tech\", \"Sector\"] = \"Defense\"\n",
    "complete_set.loc[complete_set[\"Sector\"] == \"Deisgning\", \"Sector\"] = \"Design\"\n",
    "complete_set.loc[complete_set[\"Sector\"] == \"Delivery service\", \"Sector\"] = \"Logistics & supply chain\"\n",
    "complete_set.loc[complete_set[\"Sector\"] == \"Delivery\", \"Sector\"] = \"Logistics & supply chain\"\n",
    "complete_set.loc[complete_set[\"Sector\"] == \"Dental\", \"Sector\"] = \"Medicine & healthcare\"\n",
    "complete_set.loc[complete_set[\"Sector\"] == \"Design\", \"Sector\"] = \"\"\n",
    "complete_set.loc[complete_set[\"Sector\"] == \"Dietary supplements\", \"Sector\"] = \"Food & Nutrition\"\n",
    "complete_set.loc[complete_set[\"Sector\"] == \"Digital entertainment\", \"Sector\"] = \"Entertainment\"\n",
    "complete_set.loc[complete_set[\"Sector\"] == \"Digital marketing\", \"Sector\"] = \"Advertising, marketing & sales\"\n",
    "complete_set.loc[complete_set[\"Sector\"] == \"Digital media\", \"Sector\"] = \"Information services\"\n",
    "complete_set.loc[complete_set[\"Sector\"] == \"Digital mortgage\", \"Sector\"] = \"Financial Services\"\n",
    "complete_set.loc[complete_set[\"Sector\"] == \"E store\", \"Sector\"] = \"E-commerce\"\n",
    "complete_set.loc[complete_set[\"Sector\"] == \"E-commerce & ar\", \"Sector\"] = \"E-commerce\"\n",
    "complete_set.loc[complete_set[\"Sector\"] == \"E-commerce platforms\", \"Sector\"] = \"E-commerce\"\n",
    "complete_set.loc[complete_set[\"Sector\"] == \"E-commerce\", \"Sector\"] = \"E-commerce\"\n",
    "complete_set.loc[complete_set[\"Sector\"] == \"E-learning\", \"Sector\"] = \"Education\"\n",
    "complete_set.loc[complete_set[\"Sector\"] == \"E-market\", \"Sector\"] = \"E-commerce\"\n",
    "complete_set.loc[complete_set[\"Sector\"] == \"E-marketplace\", \"Sector\"] = \"E-commerce\"\n",
    "complete_set.loc[complete_set[\"Sector\"] == \"E-mobility\", \"Sector\"] = \"Travel & Transport\"\n",
    "complete_set.loc[complete_set[\"Sector\"] == \"E-sports\", \"Sector\"] = \"Sports\"\n",
    "complete_set.loc[complete_set[\"Sector\"] == \"E-tail\", \"Sector\"] = \"E-commerce\"\n",
    "complete_set.loc[complete_set[\"Sector\"] == \"Ecommerce\", \"Sector\"] = \"E-commerce\"\n",
    "complete_set.loc[complete_set[\"Sector\"] == \"Edtech\", \"Sector\"] = \"Education\"\n",
    "complete_set.loc[complete_set[\"Sector\"] == \"Edttech\", \"Sector\"] = \"Edtech\"\n",
    "complete_set.loc[complete_set[\"Sector\"] == \"Edttech\", \"Sector\"] = \"Education\"\n",
    "complete_set.loc[complete_set[\"Sector\"] == \"Education management\", \"Sector\"] = \"Education\"\n",
    "complete_set.loc[complete_set[\"Sector\"] == \"Electricity\", \"Sector\"] = \"Energy\"\n",
    "complete_set.loc[complete_set[\"Sector\"] == \"Electronics\", \"Sector\"] = \"Appliances & Electronics\"\n",
    "complete_set.loc[complete_set[\"Sector\"] == \"Emobility\", \"Sector\"] = \"Travel & Transport\"\n",
    "complete_set.loc[complete_set[\"Sector\"] == \"Energy\", \"Sector\"] = \"Energy\"\n",
    "complete_set.loc[complete_set[\"Sector\"] == \"Enterprise software\", \"Sector\"] = \"Enterprise resource planning (erp)\"\n",
    "complete_set.loc[complete_set[\"Sector\"] == \"Environmental consulting\", \"Sector\"] = \"Environmental services\"\n",
    "complete_set.loc[complete_set[\"Sector\"] == \"Environmental service\", \"Sector\"] = \"Environmental services\"\n",
    "complete_set.loc[complete_set[\"Sector\"] == \"Equity management\", \"Sector\"] = \"Financial services\"\n",
    "complete_set.loc[complete_set[\"Sector\"] == \"Esports\", \"Sector\"] = \"Sports\"\n",
    "complete_set.loc[complete_set[\"Sector\"] == \"Estore\", \"Sector\"] = \"E-commerce\"\n",
    "complete_set.loc[complete_set[\"Sector\"] == \"Ev\", \"Sector\"] = \"Electric vehicle\"\n",
    "complete_set.loc[complete_set[\"Sector\"] == \"Events\", \"Sector\"] = \"Entertainment\"\n",
    "complete_set.loc[complete_set[\"Sector\"] == \"Eye wear\", \"Sector\"] = \"Medicine & healthcare\"\n",
    "complete_set.loc[complete_set[\"Sector\"] == \"Eyeglasses\", \"Sector\"] = \"Medicine & healthcare\"\n",
    "complete_set.loc[complete_set[\"Sector\"] == \"Eyewear\", \"Sector\"] = \"Medicine & healthcare\"\n",
    "complete_set.loc[complete_set[\"Sector\"] == \"Facilities support service\", \"Sector\"] = \"Facilities services\"\n",
    "complete_set.loc[complete_set[\"Sector\"] == \"Fantasy sports\", \"Sector\"] = \"Sports\"\n",
    "complete_set.loc[complete_set[\"Sector\"] == \"Farming\", \"Sector\"] = \"Agriculture & agritech\"\n",
    "complete_set.loc[complete_set[\"Sector\"] == \"Fashion & lifestyle\", \"Sector\"] = \"Apparel & fashion\"\n",
    "complete_set.loc[complete_set[\"Sector\"] == \"Fashion tech\", \"Sector\"] = \"Apparel & fashion\"\n",
    "complete_set.loc[complete_set[\"Sector\"] == \"Fashion\", \"Sector\"] = \"Apparel & fashion\"\n",
    "complete_set.loc[complete_set[\"Sector\"] == \"Femtech\", \"Sector\"] = \"Medicine & healthcare\"\n",
    "complete_set.loc[complete_set[\"Sector\"] == \"Fertility tech\", \"Sector\"] = \"Medicine & healthcare\"\n",
    "complete_set.loc[complete_set[\"Sector\"] == \"Finance company\", \"Sector\"] = \"Financial services\"\n",
    "complete_set.loc[complete_set[\"Sector\"] == \"Finance\", \"Sector\"] = \"Financial services\"\n",
    "complete_set.loc[complete_set[\"Sector\"] == \"Financial services\", \"Sector\"] = \"Financial services\"\n",
    "complete_set.loc[complete_set[\"Sector\"] == \"Fintech\", \"Sector\"] = \"Fintech\"\n",
    "complete_set.loc[complete_set[\"Sector\"] == \"Fishery\", \"Sector\"] = \"Agriculture & agritech\"\n",
    "complete_set.loc[complete_set[\"Sector\"] == \"Fitness\", \"Sector\"] = \"Personal care\"\n",
    "complete_set.loc[complete_set[\"Sector\"] == \"Fmcg\", \"Sector\"] = \"Consumer goods & services\"\n",
    "complete_set.loc[complete_set[\"Sector\"] == \"Food & bevarages\", \"Sector\"] = \"Food & Nutrition\"\n",
    "complete_set.loc[complete_set[\"Sector\"] == \"Food & beverage\", \"Sector\"] = \"Food & Nutrition\"\n",
    "complete_set.loc[complete_set[\"Sector\"] == \"Food & beverages\", \"Sector\"] = \"Food & Nutrition\"\n",
    "complete_set.loc[complete_set[\"Sector\"] == \"Food & logistics\", \"Sector\"] = \"Food & Nutrition\"\n",
    "complete_set.loc[complete_set[\"Sector\"] == \"Food & nutrition\", \"Sector\"] = \"Food & Nutrition\"\n",
    "complete_set.loc[complete_set[\"Sector\"] == \"Food & Nutrition\", \"Sector\"] = \"Food & Nutrition\"\n",
    "complete_set.loc[complete_set[\"Sector\"] == \"Food & tech\", \"Sector\"] = \"Food & Nutrition\"\n",
    "complete_set.loc[complete_set[\"Sector\"] == \"Food delivery\", \"Sector\"] = \"Food & Nutrition\"\n",
    "complete_set.loc[complete_set[\"Sector\"] == \"Food devlivery\", \"Sector\"] = \"Food & Nutrition\"\n",
    "complete_set.loc[complete_set[\"Sector\"] == \"Food diet\", \"Sector\"] = \"Food & Nutrition\"\n",
    "complete_set.loc[complete_set[\"Sector\"] == \"Food industry\", \"Sector\"] = \"Food & Nutrition\"\n",
    "complete_set.loc[complete_set[\"Sector\"] == \"Food processing\", \"Sector\"] = \"Food & Nutrition\"\n",
    "complete_set.loc[complete_set[\"Sector\"] == \"Food production\", \"Sector\"] = \"Food & Nutrition\"\n",
    "complete_set.loc[complete_set[\"Sector\"] == \"Food tech\", \"Sector\"] = \"Food & Nutrition\"\n",
    "complete_set.loc[complete_set[\"Sector\"] == \"Food\", \"Sector\"] = \"Food & Nutrition\"\n",
    "complete_set.loc[complete_set[\"Sector\"] == \"Foodtech & logistics\", \"Sector\"] = \"Food & Nutrition\"\n",
    "complete_set.loc[complete_set[\"Sector\"] == \"Foodtech\", \"Sector\"] = \"Food & Nutrition\"\n",
    "complete_set.loc[complete_set[\"Sector\"] == \"Foootwear\", \"Sector\"] = \"Apparel & fashion\"\n",
    "complete_set.loc[complete_set[\"Sector\"] == \"Funding platform\", \"Sector\"] = \"Financial Services\"\n",
    "complete_set.loc[complete_set[\"Sector\"] == \"Furniture rental\", \"Sector\"] = \"Furniture & Home Decor\"\n",
    "complete_set.loc[complete_set[\"Sector\"] == \"Furniture\", \"Sector\"] = \"Furniture & Home Decor\"\n",
    "complete_set.loc[complete_set[\"Sector\"] == \"Fusion beverages\", \"Sector\"] = \"Food & Nutrition\"\n",
    "complete_set.loc[complete_set[\"Sector\"] == \"Gaming\", \"Sector\"] = \"Games\"\n",
    "complete_set.loc[complete_set[\"Sector\"] == \"Healtcare\", \"Sector\"] = \"Medicine & healthcare\"\n",
    "complete_set.loc[complete_set[\"Sector\"] == \"Health & fitness\", \"Sector\"] = \"Medicine & healthcare\"\n",
    "complete_set.loc[complete_set[\"Sector\"] == \"Health & wellness\", \"Sector\"] = \"Medicine & healthcare\"\n",
    "complete_set.loc[complete_set[\"Sector\"] == \"Health and fitness\", \"Sector\"] = \"Medicine & healthcare\"\n",
    "complete_set.loc[complete_set[\"Sector\"] == \"Health care\", \"Sector\"] = \"Medicine & healthcare\"\n",
    "complete_set.loc[complete_set[\"Sector\"] == \"Health diagnostics\", \"Sector\"] = \"Medicine & healthcare\"\n",
    "complete_set.loc[complete_set[\"Sector\"] == \"Health insurance\", \"Sector\"] = \"Insurance\"\n",
    "complete_set.loc[complete_set[\"Sector\"] == \"Health\", \"Sector\"] = \"Medicine & healthcare\"\n",
    "complete_set.loc[complete_set[\"Sector\"] == \"Health, wellness & fitness\", \"Sector\"] = \"Medicine & healthcare\"\n",
    "complete_set.loc[complete_set[\"Sector\"] == \"Healthcare\", \"Sector\"] = \"Medicine & healthcare\"\n",
    "complete_set.loc[complete_set[\"Sector\"] == \"Healthcare/edtech\", \"Sector\"] = \"Medicine & healthcare\"\n",
    "complete_set.loc[complete_set[\"Sector\"] == \"Healthtech\", \"Sector\"] = \"Medicine & healthcare\"\n",
    "complete_set.loc[complete_set[\"Sector\"] == \"Heathcare\", \"Sector\"] = \"Medicine & healthcare\"\n",
    "complete_set.loc[complete_set[\"Sector\"] == \"Heathtech\", \"Sector\"] = \"Medicine & healthcare\"\n",
    "complete_set.loc[complete_set[\"Sector\"] == \"Helathcare\", \"Sector\"] = \"Medicine & healthcare\"\n",
    "complete_set.loc[complete_set[\"Sector\"] == \"Higher education\", \"Sector\"] = \"Education\"\n",
    "complete_set.loc[complete_set[\"Sector\"] == \"Home decor\", \"Sector\"] = \"Furniture & Home Decor\"\n",
    "complete_set.loc[complete_set[\"Sector\"] == \"Home design\", \"Sector\"] = \"Furniture & Home Decor\"\n",
    "complete_set.loc[complete_set[\"Sector\"] == \"Home interior services\", \"Sector\"] = \"Furniture & Home Decor\"\n",
    "complete_set.loc[complete_set[\"Sector\"] == \"Home services\", \"Sector\"] = \"Furniture & Home Decor\"\n",
    "complete_set.loc[complete_set[\"Sector\"] == \"Hospital & health care\", \"Sector\"] = \"Medicine & healthcare\"\n",
    "complete_set.loc[complete_set[\"Sector\"] == \"Hospital\", \"Sector\"] = \"Medicine & healthcare\"\n",
    "complete_set.loc[complete_set[\"Sector\"] == \"Hospitality\", \"Sector\"] = \"Tourism & Hospitality\"\n",
    "complete_set.loc[complete_set[\"Sector\"] == \"Housing & rentals\", \"Sector\"] = \"Housing & real estate\"\n",
    "complete_set.loc[complete_set[\"Sector\"] == \"Housing marketplace\", \"Sector\"] = \"Housing & real estate\"\n",
    "complete_set.loc[complete_set[\"Sector\"] == \"Housing\", \"Sector\"] = \"Housing & real estate\"\n",
    "complete_set.loc[complete_set[\"Sector\"] == \"Hr tech\", \"Sector\"] = \"Human Resources\"\n",
    "complete_set.loc[complete_set[\"Sector\"] == \"Hr\", \"Sector\"] = \"Human Resources\"\n",
    "complete_set.loc[complete_set[\"Sector\"] == \"Hrtech\", \"Sector\"] = \"Human Resources\"\n",
    "complete_set.loc[complete_set[\"Sector\"] == \"Human resources\", \"Sector\"] = \"Human Resources\"\n",
    "complete_set.loc[complete_set[\"Sector\"] == \"Hygiene management\", \"Sector\"] = \"Hygiene\"\n",
    "complete_set.loc[complete_set[\"Sector\"] == \"Information technology & services\", \"Sector\"] = \"Information technology\"\n",
    "complete_set.loc[complete_set[\"Sector\"] == \"Insurance tech\", \"Sector\"] = \"Insurance\"\n",
    "complete_set.loc[complete_set[\"Sector\"] == \"Insurance technology\", \"Sector\"] = \"Insurance\"\n",
    "complete_set.loc[complete_set[\"Sector\"] == \"Insuretech\", \"Sector\"] = \"Insurance\"\n",
    "complete_set.loc[complete_set[\"Sector\"] == \"Insurtech\", \"Sector\"] = \"Insurance\"\n",
    "complete_set.loc[complete_set[\"Sector\"] == \"Interior & decor\", \"Sector\"] = \"Furniture & Home Decor\"\n",
    "complete_set.loc[complete_set[\"Sector\"] == \"Interior design\", \"Sector\"] = \"Furniture & Home Decor\"\n",
    "complete_set.loc[complete_set[\"Sector\"] == \"Internet of things\", \"Sector\"] = \"IoT\"\n",
    "complete_set.loc[complete_set[\"Sector\"] == \"Investment banking\", \"Sector\"] = \"Financial services\"\n",
    "complete_set.loc[complete_set[\"Sector\"] == \"Investment management\", \"Sector\"] = \"Financial services\"\n",
    "complete_set.loc[complete_set[\"Sector\"] == \"Investment tech\", \"Sector\"] = \"Financial services\"\n",
    "complete_set.loc[complete_set[\"Sector\"] == \"Investment\", \"Sector\"] = \"Financial services\"\n",
    "complete_set.loc[complete_set[\"Sector\"] == \"Iot platform\", \"Sector\"] = \"IoT\"\n",
    "complete_set.loc[complete_set[\"Sector\"] == \"Iot/automobile\", \"Sector\"] = \"IoT\"\n",
    "complete_set.loc[complete_set[\"Sector\"] == \"It company\", \"Sector\"] = \"It\"\n",
    "complete_set.loc[complete_set[\"Sector\"] == \"Job discovery platform\", \"Sector\"] = \"Job search\"\n",
    "complete_set.loc[complete_set[\"Sector\"] == \"Job portal\", \"Sector\"] = \"Job search\"\n",
    "complete_set.loc[complete_set[\"Sector\"] == \"Last mile transportation\", \"Sector\"] = \"Travel & Transport\"\n",
    "complete_set.loc[complete_set[\"Sector\"] == \"Legal services\", \"Sector\"] = \"Legal\"\n",
    "complete_set.loc[complete_set[\"Sector\"] == \"Legal tech\", \"Sector\"] = \"Legal\"\n",
    "complete_set.loc[complete_set[\"Sector\"] == \"Legaltech\", \"Sector\"] = \"Legal\"\n",
    "complete_set.loc[complete_set[\"Sector\"] == \"Logistics\", \"Sector\"] = \"Logistics & supply chain\"\n",
    "complete_set.loc[complete_set[\"Sector\"] == \"Logitech\", \"Sector\"] = \"Logistics & supply chain\"\n",
    "complete_set.loc[complete_set[\"Sector\"] == \"Luxury car\", \"Sector\"] = \"Automobiles & automotives\"\n",
    "complete_set.loc[complete_set[\"Sector\"] == \"Management consulting\", \"Sector\"] = \"Advisory\"\n",
    "complete_set.loc[complete_set[\"Sector\"] == \"Market research\", \"Sector\"] = \"Advertising, marketing & sales\"\n",
    "complete_set.loc[complete_set[\"Sector\"] == \"Marketing & advertising\", \"Sector\"] = \"Advertising, marketing & sales\"\n",
    "complete_set.loc[complete_set[\"Sector\"] == \"Marketing & customer loyalty\", \"Sector\"] = \"Advertising, marketing & sales\"\n",
    "complete_set.loc[complete_set[\"Sector\"] == \"Marketing company\", \"Sector\"] = \"Advertising, marketing & sales\"\n",
    "complete_set.loc[complete_set[\"Sector\"] == \"Marketing\", \"Sector\"] = \"Advertising, marketing & sales\"\n",
    "complete_set.loc[complete_set[\"Sector\"] == \"Marketplace\", \"Sector\"] = \"E-commerce\"\n",
    "complete_set.loc[complete_set[\"Sector\"] == \"Martech\", \"Sector\"] = \"Advertising, marketing & sales\"\n",
    "complete_set.loc[complete_set[\"Sector\"] == \"Matrimony\", \"Sector\"] = \"Marriage\"\n",
    "complete_set.loc[complete_set[\"Sector\"] == \"Mechanical & industrial engineering\", \"Sector\"] = \"Engineering\"\n",
    "complete_set.loc[complete_set[\"Sector\"] == \"Mechanical or industrial engineering\", \"Sector\"] = \"Engineering\"\n",
    "complete_set.loc[complete_set[\"Sector\"] == \"Med tech\", \"Sector\"] = \"Medical\"\n",
    "complete_set.loc[complete_set[\"Sector\"] == \"Media & entertainment\", \"Sector\"] = \"Media\"\n",
    "complete_set.loc[complete_set[\"Sector\"] == \"Media & networking\", \"Sector\"] = \"Media\"\n",
    "complete_set.loc[complete_set[\"Sector\"] == \"Media and entertainment\", \"Sector\"] = \"Media\"\n",
    "complete_set.loc[complete_set[\"Sector\"] == \"Media tech\", \"Sector\"] = \"Media\"\n",
    "complete_set.loc[complete_set[\"Sector\"] == \"Medical device\", \"Sector\"] = \"Medicine & healthcare\"\n",
    "complete_set.loc[complete_set[\"Sector\"] == \"Medtech\", \"Sector\"] = \"Medicine & healthcare\"\n",
    "complete_set.loc[complete_set[\"Sector\"] == \"Mental health\", \"Sector\"] = \"Medicine & healthcare\"\n",
    "complete_set.loc[complete_set[\"Sector\"] == \"Micro-mobiity\", \"Sector\"] = \"Travel & Transport\"\n",
    "complete_set.loc[complete_set[\"Sector\"] == \"Milk\", \"Sector\"] = \"Food & Nutrition\"\n",
    "complete_set.loc[complete_set[\"Sector\"] == \"Mlops platform\", \"Sector\"] = \"Machine learning\"\n",
    "complete_set.loc[complete_set[\"Sector\"] == \"Mobile games\", \"Sector\"] = \"Games\"\n",
    "complete_set.loc[complete_set[\"Sector\"] == \"Mobile games\", \"Sector\"] = \"Mobile\"\n",
    "complete_set.loc[complete_set[\"Sector\"] == \"Mobile payments\", \"Sector\"] = \"Financial services\"\n",
    "complete_set.loc[complete_set[\"Sector\"] == \"Mobility tech\", \"Sector\"] = \"Travel & Transport\"\n",
    "complete_set.loc[complete_set[\"Sector\"] == \"Mobility\", \"Sector\"] = \"Travel & Transport\"\n",
    "complete_set.loc[complete_set[\"Sector\"] == \"Mobility/transport\", \"Sector\"] = \"Travel & Transport\"\n",
    "complete_set.loc[complete_set[\"Sector\"] == \"Music streaming\", \"Sector\"] = \"Entertainment\"\n",
    "complete_set.loc[complete_set[\"Sector\"] == \"Music\", \"Sector\"] = \"Entertainment\"\n",
    "complete_set.loc[complete_set[\"Sector\"] == \"Mutual funds\", \"Sector\"] = \"Financial services\"\n",
    "complete_set.loc[complete_set[\"Sector\"] == \"Nano distribution network\", \"Sector\"] = \"Logistics & supply chain\"\n",
    "complete_set.loc[complete_set[\"Sector\"] == \"Neo-banking\", \"Sector\"] = \"Financial services\"\n",
    "complete_set.loc[complete_set[\"Sector\"] == \"Networking platform\", \"Sector\"] = \"Social media & networking\"\n",
    "complete_set.loc[complete_set[\"Sector\"] == \"Networking\", \"Sector\"] = \"Social media & networking\"\n",
    "complete_set.loc[complete_set[\"Sector\"] == \"News\", \"Sector\"] = \"Information services\"\n",
    "complete_set.loc[complete_set[\"Sector\"] == \"Nft marketplace\", \"Sector\"] = \"NFT\"\n",
    "complete_set.loc[complete_set[\"Sector\"] == \"Nft\", \"Sector\"] = \"NFT\"\n",
    "complete_set.loc[complete_set[\"Sector\"] == \"Nutrition sector\", \"Sector\"] = \"Food & Nutrition\"\n",
    "complete_set.loc[complete_set[\"Sector\"] == \"Nutrition tech\", \"Sector\"] = \"Food & Nutrition\"\n",
    "complete_set.loc[complete_set[\"Sector\"] == \"Nutrition\", \"Sector\"] = \"Food & Nutrition\"\n",
    "complete_set.loc[complete_set[\"Sector\"] == \"Oil & energy\", \"Sector\"] = \"Energy\"\n",
    "complete_set.loc[complete_set[\"Sector\"] == \"Online credit management\", \"Sector\"] = \"Financial Services\"\n",
    "complete_set.loc[complete_set[\"Sector\"] == \"Online financial service\", \"Sector\"] = \"Financial Services\"\n",
    "complete_set.loc[complete_set[\"Sector\"] == \"Online games\", \"Sector\"] = \"Games\"\n",
    "complete_set.loc[complete_set[\"Sector\"] == \"Online media\", \"Sector\"] = \"Information services\"\n",
    "complete_set.loc[complete_set[\"Sector\"] == \"Online portals\", \"Sector\"] = \"Information services\"\n",
    "complete_set.loc[complete_set[\"Sector\"] == \"Packaging solution\", \"Sector\"] = \"Packaging services\"\n",
    "complete_set.loc[complete_set[\"Sector\"] == \"Pet care\", \"Sector\"] = \"Animal Care\"\n",
    "complete_set.loc[complete_set[\"Sector\"] == \"Pharma\", \"Sector\"] = \"Pharmaceutical\"\n",
    "complete_set.loc[complete_set[\"Sector\"] == \"Pharmacy\", \"Sector\"] = \"Pharmaceutical\"\n",
    "complete_set.loc[complete_set[\"Sector\"] == \"Podcast\", \"Sector\"] = \"Entertainment\"\n",
    "complete_set.loc[complete_set[\"Sector\"] == \"Pollution control equiptment\", \"Sector\"] = \"Hygiene\"\n",
    "complete_set.loc[complete_set[\"Sector\"] == \"Preschool daycare\", \"Sector\"] = \"Education\"\n",
    "complete_set.loc[complete_set[\"Sector\"] == \"Professional training & coaching\", \"Sector\"] = \"Human Resources\"\n",
    "complete_set.loc[complete_set[\"Sector\"] == \"Publication\", \"Sector\"] = \"Information services\"\n",
    "complete_set.loc[complete_set[\"Sector\"] == \"Real estate\", \"Sector\"] = \"Housing & real estate\"\n",
    "complete_set.loc[complete_set[\"Sector\"] == \"Real Estate\", \"Sector\"] = \"Housing & real estate\"\n",
    "complete_set.loc[complete_set[\"Sector\"] == \"Reatil\", \"Sector\"] = \"Retail\"\n",
    "complete_set.loc[complete_set[\"Sector\"] == \"Recruitment\", \"Sector\"] = \"Human Resources\"\n",
    "complete_set.loc[complete_set[\"Sector\"] == \"Renewable player\", \"Sector\"] = \"Renewable energy\"\n",
    "complete_set.loc[complete_set[\"Sector\"] == \"Renewables & environment\", \"Sector\"] = \"Renewable energy\"\n",
    "complete_set.loc[complete_set[\"Sector\"] == \"Rental space\", \"Sector\"] = \"Rentals\"\n",
    "complete_set.loc[complete_set[\"Sector\"] == \"Rental\", \"Sector\"] = \"Rentals\"\n",
    "complete_set.loc[complete_set[\"Sector\"] == \"Retail aggregator\", \"Sector\"] = \"Retail\"\n",
    "complete_set.loc[complete_set[\"Sector\"] == \"Retail tech\", \"Sector\"] = \"Retail\"\n",
    "complete_set.loc[complete_set[\"Sector\"] == \"Robotics & ai\", \"Sector\"] = \"Ai\"\n",
    "complete_set.loc[complete_set[\"Sector\"] == \"Robotics\", \"Sector\"] = \"Ai\"\n",
    "complete_set.loc[complete_set[\"Sector\"] == \"Saas platform\", \"Sector\"] = \"SAAS\"\n",
    "complete_set.loc[complete_set[\"Sector\"] == \" Saas\", \"Sector\"] = \"SAAS\"\n",
    "complete_set.loc[complete_set[\"Sector\"] == \"Saas/edtech\", \"Sector\"] = \"SAAS\"\n",
    "complete_set.loc[complete_set[\"Sector\"] == \"SaasÂ Â startup\", \"Sector\"] = \"SAAS\"\n",
    "complete_set.loc[complete_set[\"Sector\"] == \"Sales & distribution\", \"Sector\"] = \"Advertising, marketing & sales\"\n",
    "complete_set.loc[complete_set[\"Sector\"] == \"Sales & services\", \"Sector\"] = \"Advertising, marketing & sales\"\n",
    "complete_set.loc[complete_set[\"Sector\"] == \"Sales and distribution\", \"Sector\"] = \"Advertising, marketing & sales\"\n",
    "complete_set.loc[complete_set[\"Sector\"] == \"Sanitation solutions\", \"Sector\"] = \"Hygiene\"\n",
    "complete_set.loc[complete_set[\"Sector\"] == \"Skincare\", \"Sector\"] = \"Apparel & fashion\"\n",
    "complete_set.loc[complete_set[\"Sector\"] == \"Skincare\", \"Sector\"] = \"Beauty\"\n",
    "complete_set.loc[complete_set[\"Sector\"] == \"Sles & marketing\", \"Sector\"] = \"Advertising, marketing & sales\"\n",
    "complete_set.loc[complete_set[\"Sector\"] == \"Sles and marketing\", \"Sector\"] = \"Advertising, marketing & sales\"\n",
    "complete_set.loc[complete_set[\"Sector\"] == \"Social audio\", \"Sector\"] = \"Entertainment\"\n",
    "complete_set.loc[complete_set[\"Sector\"] == \"Social commerce\", \"Sector\"] = \"E-commerce\"\n",
    "complete_set.loc[complete_set[\"Sector\"] == \"Social community\", \"Sector\"] = \"Social media & networking\"\n",
    "complete_set.loc[complete_set[\"Sector\"] == \"Social e-commerce\", \"Sector\"] = \"E-commerce\"\n",
    "complete_set.loc[complete_set[\"Sector\"] == \"Social media & communities\", \"Sector\"] = \"Social media & networking\"\n",
    "complete_set.loc[complete_set[\"Sector\"] == \"Social media\", \"Sector\"] = \"Social media & networking\"\n",
    "complete_set.loc[complete_set[\"Sector\"] == \"Social network\", \"Sector\"] = \"Social media & networking\"\n",
    "complete_set.loc[complete_set[\"Sector\"] == \"Social platform\", \"Sector\"] = \"Social media & networking\"\n",
    "complete_set.loc[complete_set[\"Sector\"] == \"Software company\", \"Sector\"] = \"Software\"\n",
    "complete_set.loc[complete_set[\"Sector\"] == \"Soil-tech\", \"Sector\"] = \"Agriculture & agritech\"\n",
    "complete_set.loc[complete_set[\"Sector\"] == \"Solar monitoring company\", \"Sector\"] = \"Solar energy\"\n",
    "complete_set.loc[complete_set[\"Sector\"] == \"Solar saas\", \"Sector\"] = \"Solar energy\"\n",
    "complete_set.loc[complete_set[\"Sector\"] == \"Solar solution\", \"Sector\"] = \"Solar energy\"\n",
    "complete_set.loc[complete_set[\"Sector\"] == \"Solar\", \"Sector\"] = \"Solar energy\"\n",
    "complete_set.loc[complete_set[\"Sector\"] == \"Sportstech\", \"Sector\"] = \"Sports\"\n",
    "complete_set.loc[complete_set[\"Sector\"] == \"Staffing & recruiting\", \"Sector\"] = \"Human Resources\"\n",
    "complete_set.loc[complete_set[\"Sector\"] == \"Supply chain platform\", \"Sector\"] = \"Logistics & supply chain\"\n",
    "complete_set.loc[complete_set[\"Sector\"] == \"Supply chain, agritech\", \"Sector\"] = \"Logistics & supply chain\"\n",
    "complete_set.loc[complete_set[\"Sector\"] == \"Taxation\", \"Sector\"] = \"Financial services\"\n",
    "complete_set.loc[complete_set[\"Sector\"] == \"Tech company\", \"Sector\"] = \"Tech\"\n",
    "complete_set.loc[complete_set[\"Sector\"] == \"Tech hub\", \"Sector\"] = \"Tech\"\n",
    "complete_set.loc[complete_set[\"Sector\"] == \"Tech platform\", \"Sector\"] = \"Tech\"\n",
    "complete_set.loc[complete_set[\"Sector\"] == \"Technology\", \"Sector\"] = \"Tech\"\n",
    "complete_set.loc[complete_set[\"Sector\"] == \"Techonology\", \"Sector\"] = \"Tech\"\n",
    "complete_set.loc[complete_set[\"Sector\"] == \"Telecommuncation\", \"Sector\"] = \"Telecommunication\"\n",
    "complete_set.loc[complete_set[\"Sector\"] == \"Telecommunications\", \"Sector\"] = \"Telecommunication\"\n",
    "complete_set.loc[complete_set[\"Sector\"] == \"Textiles\", \"Sector\"] = \"Apparel & fashion\"\n",
    "complete_set.loc[complete_set[\"Sector\"] == \"Tobacco\", \"Sector\"] = \"Agriculture & agritech\"\n",
    "complete_set.loc[complete_set[\"Sector\"] == \"Tourism & ev\", \"Sector\"] = \"Tourism & Hospitality\"\n",
    "complete_set.loc[complete_set[\"Sector\"] == \"Tourism\", \"Sector\"] = \"Tourism & Hospitality\"\n",
    "complete_set.loc[complete_set[\"Sector\"] == \"Trading platform\", \"Sector\"] = \"E-commerce\"\n",
    "complete_set.loc[complete_set[\"Sector\"] == \"Training\", \"Sector\"] = \"Human Resources\"\n",
    "complete_set.loc[complete_set[\"Sector\"] == \"Transport & rentals\", \"Sector\"] = \"Travel & Transport\"\n",
    "complete_set.loc[complete_set[\"Sector\"] == \"Transport automation\", \"Sector\"] = \"Travel & Transport\"\n",
    "complete_set.loc[complete_set[\"Sector\"] == \"Transport\", \"Sector\"] = \"Travel & Transport\"\n",
    "complete_set.loc[complete_set[\"Sector\"] == \"Transportation\", \"Sector\"] = \"Travel & Transport\"\n",
    "complete_set.loc[complete_set[\"Sector\"] == \"Travel & saas\", \"Sector\"] = \"Travel & Transport\"\n",
    "complete_set.loc[complete_set[\"Sector\"] == \"Travel tech\", \"Sector\"] = \"Travel & Transport\"\n",
    "complete_set.loc[complete_set[\"Sector\"] == \"Travel\", \"Sector\"] = \"Travel & Transport\"\n",
    "complete_set.loc[complete_set[\"Sector\"] == \"Traveltech\", \"Sector\"] = \"Travel & Transport\"\n",
    "complete_set.loc[complete_set[\"Sector\"] == \"Vehicle repair\", \"Sector\"] = \"Automobiles & automotives\"\n",
    "complete_set.loc[complete_set[\"Sector\"] == \"Venture capital & private equity\", \"Sector\"] = \"Financial services\"\n",
    "complete_set.loc[complete_set[\"Sector\"] == \"Venture capital\", \"Sector\"] = \"Financial services\"\n",
    "complete_set.loc[complete_set[\"Sector\"] == \"Venture capitalist\", \"Sector\"] = \"Financial services\"\n",
    "complete_set.loc[complete_set[\"Sector\"] == \"Veterinary\", \"Sector\"] = \"Animal Care\"\n",
    "complete_set.loc[complete_set[\"Sector\"] == \"Video personalization\", \"Sector\"] = \"Video communication\"\n",
    "complete_set.loc[complete_set[\"Sector\"] == \"Video platform\", \"Sector\"] = \"Video communication\"\n",
    "complete_set.loc[complete_set[\"Sector\"] == \"Video sharing platform\", \"Sector\"] = \"Video communication\"\n",
    "complete_set.loc[complete_set[\"Sector\"] == \"Video streaming platform\", \"Sector\"] = \"Video communication\"\n",
    "complete_set.loc[complete_set[\"Sector\"] == \"Video\", \"Sector\"] = \"Video communication\"\n",
    "complete_set.loc[complete_set[\"Sector\"] == \"Virtual auditing\", \"Sector\"] = \"Financial Services\"\n",
    "complete_set.loc[complete_set[\"Sector\"] == \"Virtual banking\", \"Sector\"] = \"Financial Services\"\n",
    "complete_set.loc[complete_set[\"Sector\"] == \"Visual media\", \"Sector\"] = \"Information services\"\n",
    "complete_set.loc[complete_set[\"Sector\"] == \"Vr & saas\", \"Sector\"] = \"Ar/vr\"\n",
    "complete_set.loc[complete_set[\"Sector\"] == \"Wealth management\", \"Sector\"] = \"Financial services\"\n",
    "complete_set.loc[complete_set[\"Sector\"] == \"Wedding\", \"Sector\"] = \"Marriage\"\n",
    "complete_set.loc[complete_set[\"Sector\"] == \"Wellness\", \"Sector\"] = \"Personal care\"\n",
    "complete_set.loc[complete_set[\"Sector\"] == \"Wine & spirits\", \"Sector\"] = \"Food & Nutrition\"\n",
    "complete_set.loc[complete_set[\"Sector\"] == \"Yoga & wellness\", \"Sector\"] = \"Personal care\""
   ]
  },
  {
   "cell_type": "code",
   "execution_count": null,
   "id": "2441a8e2",
   "metadata": {
    "scrolled": false
   },
   "outputs": [],
   "source": [
    "unique_sectors = (complete_set.loc[:,\"Sector\"]).value_counts()\n",
    "unique_sectors.head(10)"
   ]
  },
  {
   "cell_type": "code",
   "execution_count": null,
   "id": "c0e5dfa2",
   "metadata": {
    "scrolled": true
   },
   "outputs": [],
   "source": [
    "unique_sectors.head(10).sort_values().plot.barh()\n",
    "plt.xlabel(\"Number of Funding Deals\")\n",
    "plt.ylabel(\"Sector\")\n",
    "plt.title(\"Funding Deals per Sector\")"
   ]
  },
  {
   "cell_type": "markdown",
   "id": "de621a76",
   "metadata": {},
   "source": [
    "Here, we note that startups in the education (279), fintech (258), and medicine & healthcare (227) sectors were involved in most transactions over the period, with financial services (166) and e-commerce (158) following in distance. The top 10 (out of 202) sectors, by number of deals, make up about 53% of the total deals over the period. It will therefore be fair to conclude that funding is centralized around a few sectors."
   ]
  },
  {
   "cell_type": "markdown",
   "id": "ba348e33",
   "metadata": {},
   "source": [
    "#### 3.8.3 Funding Stage"
   ]
  },
  {
   "cell_type": "code",
   "execution_count": null,
   "id": "ef604cc3",
   "metadata": {
    "scrolled": true
   },
   "outputs": [],
   "source": [
    "unique_stages = (complete_set.loc[:,\"Funding Stage\"]).value_counts()\n",
    "unique_stages.head(15)"
   ]
  },
  {
   "cell_type": "markdown",
   "id": "8f50402d",
   "metadata": {},
   "source": [
    "From the preview of the unique stages above, we see that a number of stages implying the same stage are grouped differently due to differences in capitalization, spacing and use of hyphens. They should therefore be standardized to ensure that analyses based on the column presents a truer representation."
   ]
  },
  {
   "cell_type": "code",
   "execution_count": null,
   "id": "b1207628",
   "metadata": {},
   "outputs": [],
   "source": [
    "# Equating similar entries in the funding stage column for ease of analysis\n",
    "complete_set[\"Funding Stage\"] = complete_set[\"Funding Stage\"].apply(lambda x: str(x).replace(\" Round\",\"\"))\n",
    "complete_set[\"Funding Stage\"] = complete_set[\"Funding Stage\"].apply(lambda x: str(x).replace(\" round\",\"\"))\n",
    "complete_set[\"Funding Stage\"] = complete_set[\"Funding Stage\"].apply(lambda x: str(x).replace(\" - Series Unknown\",\"\"))"
   ]
  },
  {
   "cell_type": "code",
   "execution_count": null,
   "id": "7b64116c",
   "metadata": {
    "hide_input": false
   },
   "outputs": [],
   "source": [
    "# Equating similar entries in the Sector column for ease of analysis (2)\n",
    "complete_set.loc[complete_set[\"Funding Stage\"] == \"$6000000\", \"Funding Stage\"] = \"Venture\"\n",
    "complete_set.loc[complete_set[\"Funding Stage\"] == \"Debt Financing\", \"Funding Stage\"] = \"Debt\"\n",
    "complete_set.loc[complete_set[\"Funding Stage\"] == \"Early seed\", \"Funding Stage\"] = \"Seed\"\n",
    "complete_set.loc[complete_set[\"Funding Stage\"] == \"Fresh Funding\", \"Funding Stage\"] = \"Seed\"\n",
    "complete_set.loc[complete_set[\"Funding Stage\"] == \"Fresh funding\", \"Funding Stage\"] = \"Seed\"\n",
    "complete_set.loc[complete_set[\"Funding Stage\"] == \"nan\", \"Funding Stage\"] = \"Undisclosed\"\n",
    "complete_set.loc[complete_set[\"Funding Stage\"] == \"PE\", \"Funding Stage\"] = \"Private Equity\"\n",
    "complete_set.loc[complete_set[\"Funding Stage\"] == \"Pre seed\", \"Funding Stage\"] = \"Pre-seed\"\n",
    "complete_set.loc[complete_set[\"Funding Stage\"] == \"Pre series A1\", \"Funding Stage\"] = \"Pre-series A\"\n",
    "complete_set.loc[complete_set[\"Funding Stage\"] == \"Pre- series A\", \"Funding Stage\"] = \"Pre-series A\"\n",
    "complete_set.loc[complete_set[\"Funding Stage\"] == \"Pre-Series A\", \"Funding Stage\"] = \"Pre-series A\"\n",
    "complete_set.loc[complete_set[\"Funding Stage\"] == \"Pre-Series A1\", \"Funding Stage\"] = \"Pre-series A\"\n",
    "complete_set.loc[complete_set[\"Funding Stage\"] == \"Seed fund\", \"Funding Stage\"] = \"Seed\"\n",
    "complete_set.loc[complete_set[\"Funding Stage\"] == \"Seed funding\", \"Funding Stage\"] = \"Seed\"\n",
    "complete_set.loc[complete_set[\"Funding Stage\"] == \"Seed Funding\", \"Funding Stage\"] = \"Seed\"\n",
    "complete_set.loc[complete_set[\"Funding Stage\"] == \"Seies A\", \"Funding Stage\"] = \"Series A\"\n",
    "complete_set.loc[complete_set[\"Funding Stage\"] == \"Series A2\", \"Funding Stage\"] = \"Series A\"\n",
    "complete_set.loc[complete_set[\"Funding Stage\"] == \"Series I\", \"Funding Stage\"] = \"Series A\"\n",
    "complete_set.loc[complete_set[\"Funding Stage\"] == \"Pre Series A\", \"Funding Stage\"] = \"Pre-series A\"\n",
    "complete_set.loc[complete_set[\"Funding Stage\"] == \"Pre series A\", \"Funding Stage\"] = \"Pre-series A\"\n",
    "complete_set.loc[complete_set[\"Funding Stage\"] == \"Pre series B\", \"Funding Stage\"] = \"Pre-series B\"\n",
    "complete_set.loc[complete_set[\"Funding Stage\"] == \"Pre series C\", \"Funding Stage\"] = \"Pre-series C\"\n",
    "complete_set.loc[complete_set[\"Funding Stage\"] == \"Pre-Seed\", \"Funding Stage\"] = \"Pre-seed\"\n",
    "complete_set.loc[complete_set[\"Funding Stage\"] == \"Pre-series A1\", \"Funding Stage\"] = \"Pre-series A\"\n",
    "complete_set.loc[complete_set[\"Funding Stage\"] == \"Seed & Series A\", \"Funding Stage\"] = \"Series A\" # Checked Crunchbase\n",
    "complete_set.loc[complete_set[\"Funding Stage\"] == \"Seed A\", \"Funding Stage\"] = \"Series A\"\n",
    "complete_set.loc[complete_set[\"Funding Stage\"] == \"Seed Investment\", \"Funding Stage\"] = \"Seed\"\n",
    "complete_set.loc[complete_set[\"Funding Stage\"] == \"Seed+\", \"Funding Stage\"] = \"Seed\"\n",
    "complete_set.loc[complete_set[\"Funding Stage\"] == \"Pre-Series B\", \"Funding Stage\"] = \"Pre-series B\""
   ]
  },
  {
   "cell_type": "code",
   "execution_count": null,
   "id": "03d5c175",
   "metadata": {},
   "outputs": [],
   "source": [
    "# Taking a final preview of the revised column data\n",
    "unique_stages.head(15)"
   ]
  },
  {
   "cell_type": "code",
   "execution_count": null,
   "id": "1d63bb9f",
   "metadata": {},
   "outputs": [],
   "source": [
    "unique_stages = (complete_set.loc[:,\"Funding Stage\"]).value_counts()\n",
    "unique_stages.head(10).sort_values().plot.barh()\n",
    "plt.xlabel(\"Number of Funding Deals\")\n",
    "plt.ylabel(\"Funding Stage\")\n",
    "plt.title(\"Funding Deals per Funding Stage\")"
   ]
  },
  {
   "cell_type": "markdown",
   "id": "4a1e0cf7",
   "metadata": {},
   "source": [
    "We note from the plot above that most of the funding stages for deals over the period were undisclosed. For the disclosed stages, \"Seed\" round had the most deals by a mile (924) followed by \"Series A\" (310) and \"Pre-Series A\" (289), with \"Series B\" and \"Series C\" following in the distance with 134 and 114 deals respectively."
   ]
  },
  {
   "cell_type": "markdown",
   "id": "fadef331",
   "metadata": {},
   "source": [
    "#### 3.8.4 Amounts"
   ]
  },
  {
   "cell_type": "code",
   "execution_count": null,
   "id": "b376f03d",
   "metadata": {
    "scrolled": true
   },
   "outputs": [],
   "source": [
    "unique_amounts = (complete_set.loc[:,\"Amount\"]).value_counts()\n",
    "unique_amounts"
   ]
  },
  {
   "cell_type": "code",
   "execution_count": null,
   "id": "7ab6ba5b",
   "metadata": {
    "hide_input": true
   },
   "outputs": [],
   "source": [
    "pd.set_option('display.float_format', lambda x: '%.2f' % x)"
   ]
  },
  {
   "cell_type": "code",
   "execution_count": null,
   "id": "8f9b9089",
   "metadata": {
    "scrolled": true
   },
   "outputs": [],
   "source": [
    "# Replacing all Nulls with 0\n",
    "complete_set.loc[complete_set[\"Amount\"] == \"nan\", \"Amount\"] = np.nan\n",
    "complete_set[\"Amount\"].fillna(0.00,inplace = True)\n",
    "\n",
    "# Creating a copy of the DataFrame sorted by Amount\n",
    "amt_sorting = (complete_set.loc[complete_set[\"Amount\"] != 0]).round(2).sort_values(by = \"Amount\")\n",
    "amt_sorting"
   ]
  },
  {
   "cell_type": "code",
   "execution_count": null,
   "id": "c008946f",
   "metadata": {
    "scrolled": true
   },
   "outputs": [],
   "source": [
    "# Creating a function to find outliers using IQR\n",
    "def outliers_IQR(df):\n",
    "    q1 = df.quantile(0.25)\n",
    "    q3 = df.quantile(0.75)\n",
    "    IQR = q3-q1\n",
    "    outliers = df[((df<(q1-1.5*IQR)) | (df>(q3+1.5*IQR)))]\n",
    "    return outliers\n",
    "\n",
    "outliers = outliers_IQR(complete_set[\"Amount\"])\n",
    "print(\"Number of outliers: \" + str(len(outliers)), \"\\n\")\n",
    "print(\"Outliers percentage of total: \" + str((((len(outliers))/len(complete_set[\"Amount\"])*100))) + \"%\", \"\\n\")\n",
    "print(\"Max outlier value: \" + str(outliers.max()), \"\\n\")\n",
    "print(\"Min outlier value: \" + str(outliers.min()), \"\\n\")"
   ]
  },
  {
   "cell_type": "markdown",
   "id": "c5d173f2",
   "metadata": {},
   "source": [
    "Since the outliers represent over 16% of the data available, it would be unwise to remove all of them. Outliers from the top and bottom will be selected for confirmation online, then further action taken on them."
   ]
  },
  {
   "cell_type": "code",
   "execution_count": null,
   "id": "5e9e5319",
   "metadata": {},
   "outputs": [],
   "source": [
    "# Who could be the outliers?\n",
    "## Looking at the outliers from the top\n",
    "(amt_sorting.loc[amt_sorting[\"Amount\"] > 0]).head(10)"
   ]
  },
  {
   "cell_type": "code",
   "execution_count": null,
   "id": "92040666",
   "metadata": {},
   "outputs": [],
   "source": [
    "# Correcting the erroneous entries\n",
    "## SATYA Microcapital (raised ₹725M debt financing from BlueOrchard in 2020 to be converted at 74.1322 INR/USD)\n",
    "complete_set.loc[(complete_set[\"Company Name\"] == \"Satya microcapital\") & \n",
    "                 (complete_set[\"Amount\"] == 9.00), \n",
    "                 [\"Funding Stage\", \"Amount\", \"Investors\"]] = [\"Debt\", int(725000000/74.1322), \"BlueOrchard Finance S A\"]\n",
    "\n",
    "## Ultraviolette Automotive: raised ₹60M Series A funding in 2018 \n",
    "complete_set.loc[(complete_set[\"Company Name\"] == \"Ultraviolette automotive\") &\n",
    "                 (complete_set[\"Amount\"] == 876.00), \n",
    "                 [\"Funding Stage\", \"Amount\"]] = [\"Series A\", int(60000000*0.0146)]\n",
    "\n",
    "## Peel Works received lots of funding in 2020 not available in the dataset, I will therefore add them:\n",
    "peel_addon = pd.DataFrame({'Company Name': [\"Peel works\",\"Peel works\",\"Peel works\",\"Peel works\"], \n",
    "              'Sector': [\"Saas\", \"Saas\", \"Saas\",\" Saas\"], \n",
    "              'Funding Stage': [\"Series D\",\"Series D\",\"Debt\",\"Debt\"],\n",
    "              'Amount': [2840000, 2000000, 1000000, 408000], \n",
    "              'Headquarters': [\"Mumbai\",\"Mumbai\",\"Mumbai\",\"Mumbai\"],\n",
    "              'Description': [np.nan, np.nan, np.nan, np.nan], \n",
    "              'Funding Year': [\"2020\", \"2020\", \"2020\", \"2020\"],\n",
    "              'Year Founded': [\"2010\", \"2010\", \"2010\", \"2010\"], \n",
    "              'Founders': [\"Sachin Chhabra, Nidhi Ramachandran\",\"Sachin Chhabra, Nidhi Ramachandran\",\"Sachin Chhabra, Nidhi Ramachandran\",\"Sachin Chhabra, Nidhi Ramachandran\"],\n",
    "              'Investors': [\"CESC\", np.nan, \"BlackSoil\", \"Equanimity Investments\"]})\n",
    "\n",
    "# Dropping the erroneous column and inserting the corrections\n",
    "complete_set = complete_set.drop([1444], axis = 0) \n",
    "complete_set = pd.concat([complete_set,peel_addon], ignore_index=True, axis = 0)\n",
    "\n",
    "complete_set.loc[(complete_set[\"Company Name\"] == \"Peel works\")]"
   ]
  },
  {
   "cell_type": "code",
   "execution_count": null,
   "id": "c092426c",
   "metadata": {
    "scrolled": true
   },
   "outputs": [],
   "source": [
    "## Looking at the outliers from the bottom\n",
    "(amt_sorting.loc[amt_sorting[\"Amount\"] > 0]).tail(10)"
   ]
  },
  {
   "cell_type": "code",
   "execution_count": null,
   "id": "715f4194",
   "metadata": {},
   "outputs": [],
   "source": [
    "# Boxplot to summarize the amounts\n",
    "(amt_sorting.loc[amt_sorting[\"Amount\"] > 0]).plot.box()\n",
    "(amt_sorting.loc[amt_sorting[\"Amount\"] > 0]).describe()\n",
    "plt.title(\"Distribution of Funding Amounts\")"
   ]
  },
  {
   "cell_type": "code",
   "execution_count": null,
   "id": "67c91010",
   "metadata": {},
   "outputs": [],
   "source": [
    "complete_set.loc[(complete_set[\"Amount\"] == 70000000000.00) |\n",
    "                (complete_set[\"Amount\"] == 150000000000.00)]"
   ]
  },
  {
   "cell_type": "markdown",
   "id": "2f814447",
   "metadata": {},
   "source": [
    "Despite being correct entries, the top 2 outliers Alteria Capital (index 1737) and Reliance Retail Ventures Ltd (index 892) will be dropped to assess their impact on the amounts."
   ]
  },
  {
   "cell_type": "code",
   "execution_count": null,
   "id": "48d9a5f1",
   "metadata": {},
   "outputs": [],
   "source": [
    "complete_set_no_outliers = complete_set.drop([892, 1737], axis = 0)"
   ]
  },
  {
   "cell_type": "code",
   "execution_count": null,
   "id": "4c4a4fca",
   "metadata": {
    "scrolled": false
   },
   "outputs": [],
   "source": [
    "# Re-assigning the sorted DataFrame and displaying the revised DataFrame in a boxplot\n",
    "amt_sorting = (complete_set_no_outliers.loc[complete_set_no_outliers[\"Amount\"] > 0]).round(2).sort_values(by = \"Amount\")\n",
    "(amt_sorting.loc[amt_sorting[\"Amount\"] > 0]).plot.box()\n",
    "(amt_sorting.loc[amt_sorting[\"Amount\"] > 0]).describe()"
   ]
  },
  {
   "cell_type": "markdown",
   "id": "b2b39096",
   "metadata": {},
   "source": [
    "Per the boxplots for the complete set with the two major outliers and that without the two major outliers, their effects on the mean is evident, at USD 121.27m with outliers and USD 25.90m without outliers. This represents a stark USD 95.37m difference between the two datasets. Even so, it is visible from the boxplot for the complete set without outliers that there are two more big outliers dragging the USD 25.90m mean outward, with the next looking relatively close to the norm.\n",
    "\n",
    "As such, the **median** of **USD 3m** (in both cases - with and without outliers) will be used for computations and analysis for the \"average\" startup. That is to say that the average funding deal over the period was worth **USD 3m**."
   ]
  },
  {
   "cell_type": "markdown",
   "id": "b70e6675",
   "metadata": {},
   "source": [
    "#### 3.8.5 Locations"
   ]
  },
  {
   "cell_type": "code",
   "execution_count": null,
   "id": "45ad37ff",
   "metadata": {
    "scrolled": false
   },
   "outputs": [],
   "source": [
    "unique_locations = (complete_set.loc[:,\"Headquarters\"]).value_counts()\n",
    "unique_locations"
   ]
  },
  {
   "cell_type": "code",
   "execution_count": null,
   "id": "197182d9",
   "metadata": {
    "scrolled": false
   },
   "outputs": [],
   "source": [
    "complete_set[\"Headquarters\"].apply(str)\n",
    "complete_set[\"Headquarters\"].fillna(\"Unknown Location\", inplace = True)\n",
    "complete_set.loc[complete_set[\"Headquarters\"] == \"nan\", \"Headquarters\"] = \"Unknown\"\n",
    "complete_set.loc[complete_set[\"Headquarters\"] == \"Bengaluru\", \"Headquarters\"] = \"Bangalore\"\n",
    "complete_set.loc[complete_set[\"Headquarters\"] == \"Bombay\", \"Headquarters\"] = \"Mumbai\"\n",
    "complete_set.loc[complete_set[\"Headquarters\"] == \"Gurugram\", \"Headquarters\"] = \"Gurgaon\"\n",
    "complete_set.loc[complete_set[\"Headquarters\"] == \"Mountain View, CA\", \"Headquarters\"] = \"California\"\n",
    "\n",
    "unique_locations = (complete_set.loc[:,\"Headquarters\"]).value_counts()\n",
    "unique_locations.head(10)"
   ]
  },
  {
   "cell_type": "code",
   "execution_count": null,
   "id": "da6bce25",
   "metadata": {},
   "outputs": [],
   "source": [
    "unique_locations.head(10).sort_values().plot.barh()\n",
    "plt.xlabel(\"Number of Funding Deals\")\n",
    "plt.ylabel(\"City\")\n",
    "plt.title(\"Funding Deals per City\")"
   ]
  },
  {
   "cell_type": "markdown",
   "id": "baaae779",
   "metadata": {},
   "source": [
    "From the above, it is seen that Bangalore (916) leads the pack (as the city with most startups involved in deals) by almost twice as much as the next location, Mumbai, which has 471. It also leaves a fair distance between itself and Gurgaon (317), New Delhi (230), Chennai (106), and Pune (104) in that order.\n",
    "\n",
    "These make up about 75% of the total transactions over the period, thus pointing to part acceptance of the null hypothesis which posits that funding to startups is centralized around specific locations and sectors."
   ]
  },
  {
   "cell_type": "markdown",
   "id": "f0a99bcb",
   "metadata": {},
   "source": [
    "#### 3.8.6 Description"
   ]
  },
  {
   "cell_type": "code",
   "execution_count": null,
   "id": "c3209d4c",
   "metadata": {
    "scrolled": true
   },
   "outputs": [],
   "source": [
    "complete_set[\"Description\"].apply(str) # Applying a string formatting to the column\n",
    "complete_set[\"Description\"].fillna(\"Unknown\", inplace = True) # Filling null spaces with Unknown\n",
    "complete_set[\"Description\"].replace(\"  \",\" \", inplace = True) # Replacing all double spaces\n",
    "company_descs = (complete_set.loc[:,\"Description\"]).value_counts()\n",
    "company_descs"
   ]
  },
  {
   "cell_type": "markdown",
   "id": "cb247e02",
   "metadata": {},
   "source": [
    "#### 3.8.7 Funding Year"
   ]
  },
  {
   "cell_type": "code",
   "execution_count": null,
   "id": "3145e529",
   "metadata": {},
   "outputs": [],
   "source": [
    "complete_set[\"Funding Year\"].apply(str) # Applying string formatting\n",
    "complete_set[\"Funding Year\"].fillna(np.nan, inplace = True) # Filling unknown spaces with null\n",
    "funding_year = (complete_set.loc[:,\"Funding Year\"]).value_counts()\n",
    "funding_year = funding_year.sort_index()\n",
    "funding_year"
   ]
  },
  {
   "cell_type": "code",
   "execution_count": null,
   "id": "d04c6328",
   "metadata": {
    "scrolled": false
   },
   "outputs": [],
   "source": [
    "funding_year.plot()\n",
    "plt.title(\"Number of Deals per Year\")\n",
    "plt.ylabel(\"Year of Funding\")\n",
    "plt.xlabel(\"Number of Deals\")"
   ]
  },
  {
   "cell_type": "markdown",
   "id": "7355b379",
   "metadata": {},
   "source": [
    "Here, we note that the number of funding deals, despite the big drop in 2019, is increasing. Number of funding deals increased from 525 in 2018 to 1190 in 2021. This implies that chances are fairly high that a new startup would be able to land a funding deal going forward since the number of deals is on an increasing trajectory.\n",
    "\n",
    "What about the amounts? How have the total amounts invested changed over the period?"
   ]
  },
  {
   "cell_type": "code",
   "execution_count": null,
   "id": "c1f38840",
   "metadata": {
    "scrolled": true
   },
   "outputs": [],
   "source": [
    "# Let's look at how much the average startup raised based on their founding year\n",
    "funding_set = complete_set.groupby(\"Funding Year\").Amount.agg([\"count\",\"sum\", \"mean\", \"median\"])\n",
    "funding_set"
   ]
  },
  {
   "cell_type": "code",
   "execution_count": null,
   "id": "d9253f25",
   "metadata": {
    "scrolled": true
   },
   "outputs": [],
   "source": [
    "sns.barplot(x = funding_set.index, y = funding_set[\"sum\"])\n",
    "plt.title(\"Total Amount of Funding per Year\")\n",
    "plt.ylabel(\"Total Amount of Funding\")\n",
    "plt.xlabel(\"Year of Funding\")"
   ]
  },
  {
   "cell_type": "markdown",
   "id": "935dc9fd",
   "metadata": {},
   "source": [
    "We note that in line with the increasing number of deals over the period, total amounts invested have been increasing over the period, with investments in 2021 having the highest monetary value.\n",
    "\n",
    "We must not ignore the fact that despite 2018 having a higher number of transactions, the average amount per deal (USD 12.7bn) was significantly less than that of 2019 (USD 37.5bn)"
   ]
  },
  {
   "cell_type": "markdown",
   "id": "3281361e",
   "metadata": {},
   "source": [
    "#### 3.8.8 Year Founded"
   ]
  },
  {
   "cell_type": "code",
   "execution_count": null,
   "id": "98751f04",
   "metadata": {
    "scrolled": true
   },
   "outputs": [],
   "source": [
    "((complete_set.loc[:,\"Year Founded\"]).value_counts())[1:]"
   ]
  },
  {
   "cell_type": "code",
   "execution_count": null,
   "id": "9d1d2ac8",
   "metadata": {
    "scrolled": true
   },
   "outputs": [],
   "source": [
    "# Making final touches to the column for further analysis\n",
    "complete_set[\"Year Founded\"].apply(str) # Applying string formatting\n",
    "complete_set[\"Year Founded\"].replace(\"-\",\"nan\", inplace = True) # Replacing dashes with nan\n",
    "complete_set[\"Year Founded\"] = complete_set[\"Year Founded\"].apply(lambda x: str(x).replace(\".0\",\"\")) # Removing .0 attached\n",
    "year_founded = ((complete_set.loc[:,\"Year Founded\"]).value_counts())[1:] # Excluding the rows with \"nan\"\n",
    "year_founded = year_founded.sort_index() # Showing trend of startups founded since 2000\n",
    "year_founded"
   ]
  },
  {
   "cell_type": "code",
   "execution_count": null,
   "id": "4a68839e",
   "metadata": {
    "scrolled": true
   },
   "outputs": [],
   "source": [
    "# Taking a look at which \"startups\" were founded earlier than 2000\n",
    "complete_set.loc[(complete_set[\"Year Founded\"] == \"1963\") |\n",
    "                (complete_set[\"Year Founded\"] == \"1973\") |\n",
    "                (complete_set[\"Year Founded\"] == \"1978\") |\n",
    "                (complete_set[\"Year Founded\"] == \"1982\") |\n",
    "                (complete_set[\"Year Founded\"] == \"1984\") |\n",
    "                (complete_set[\"Year Founded\"] == \"1989\") |\n",
    "                (complete_set[\"Year Founded\"] == \"1991\") |\n",
    "                (complete_set[\"Year Founded\"] == \"1993\") |\n",
    "                (complete_set[\"Year Founded\"] == \"1994\") |\n",
    "                (complete_set[\"Year Founded\"] == \"1995\") |\n",
    "                (complete_set[\"Year Founded\"] == \"1998\") |\n",
    "                (complete_set[\"Year Founded\"] == \"1999\")].sort_values(by = \"Year Founded\")"
   ]
  },
  {
   "cell_type": "code",
   "execution_count": null,
   "id": "4ae141a3",
   "metadata": {},
   "outputs": [],
   "source": [
    "# After crosschecking the internet for the founding years of the startups, some mistakes in the data were noted and will be corrected accordingly:\n",
    "## Arya was founded in 2013\n",
    "complete_set.loc[complete_set[\"Company Name\"] == \"Arya\", \"Year Founded\"] = \"2013\"\n",
    "\n",
    "# CreditWise Capital was founded in 2018\n",
    "complete_set.loc[complete_set[\"Company Name\"] == \"Credit wise capital\", \"Year Founded\"] = \"2018\"\n",
    "\n",
    "# Lendingkart was founded in 2014\n",
    "complete_set.loc[complete_set[\"Company Name\"] == \"Lendingkart\", \"Year Founded\"] = \"2014\"\n",
    "\n",
    "# Nobel hygiene was founded in 2001\n",
    "complete_set.loc[complete_set[\"Company Name\"] == \"Nobel hygiene\", \"Year Founded\"] = \"2001\""
   ]
  },
  {
   "cell_type": "code",
   "execution_count": null,
   "id": "1a2f8d2e",
   "metadata": {},
   "outputs": [],
   "source": [
    "year_founded.plot()\n",
    "plt.title(\"Number of Deals for Startups per Founding Year\")\n",
    "plt.ylabel(\"Founding Year\")\n",
    "plt.xlabel(\"Number of Transactions\")"
   ]
  },
  {
   "cell_type": "markdown",
   "id": "dd38248a",
   "metadata": {},
   "source": [
    "Here, we note that generally, newer startups are involved in more funding deals, with an overall increase from startups founded in 2000. 2021's low value may imply lower chances of landing a funding deal in the same year which a startup was founded. As such, it is fair to say that other sources of finance may be used in the first year of founding before actively seeking a funding deal down the line."
   ]
  },
  {
   "cell_type": "code",
   "execution_count": null,
   "id": "29bd6f20",
   "metadata": {
    "scrolled": true
   },
   "outputs": [],
   "source": [
    "# Let's look at how much the average startup raised based on their founding year\n",
    "year_set = complete_set.groupby(\"Year Founded\").Amount.agg([\"count\",\"sum\", \"mean\", \"median\"])\n",
    "year_set"
   ]
  },
  {
   "cell_type": "code",
   "execution_count": null,
   "id": "706ab681",
   "metadata": {
    "scrolled": false
   },
   "outputs": [],
   "source": [
    "plt.figure(figsize = (18,9))\n",
    "sns.barplot(x = year_set.index, y = year_set[\"sum\"])\n",
    "plt.xlabel(\"Year Founded\")\n",
    "plt.ylabel(\"Amount Raised\")\n",
    "plt.title(\"Total Funding Raised by Startups based on Founding Year\")"
   ]
  },
  {
   "cell_type": "markdown",
   "id": "e1b218d7",
   "metadata": {},
   "source": [
    "Here again, we note that startups founded in 2018 raised the most funds over the period, followed by 2006 and then other startups founded after 2009. This further reinforces the earlier observation that startups may have to find alternative sources of during the early stages, and look out for funding opportunities with time and growth."
   ]
  },
  {
   "cell_type": "markdown",
   "id": "9da03ba5",
   "metadata": {},
   "source": [
    "#### 3.8.9 Founders"
   ]
  },
  {
   "cell_type": "code",
   "execution_count": null,
   "id": "85f75900",
   "metadata": {
    "scrolled": true
   },
   "outputs": [],
   "source": [
    "complete_set[\"Founders\"].apply(str) # Casting the column to string\n",
    "complete_set[\"Founders\"] = complete_set[\"Founders\"].str.split(',').str[0] # Selecting the first name as the primary founder\n",
    "complete_set[\"Founders\"].fillna(\"Unknown Founder\", inplace = True) # Filling nulls with \"Unknown Founder\"\n",
    "complete_set[\"Founders\"].replace(\"  \",\" \", inplace = True) # Removing any double spaces\n",
    "founders = (complete_set.loc[:,\"Founders\"]).value_counts()\n",
    "founders.head(10)"
   ]
  },
  {
   "cell_type": "code",
   "execution_count": null,
   "id": "55b8cd4e",
   "metadata": {},
   "outputs": [],
   "source": [
    "founders[1:].head(10).sort_values().plot.barh() # Plotting while excluding the \"Unknown Founders\"\n",
    "plt.xlabel(\"Number of Fundings Received\")\n",
    "plt.ylabel(\"Name of Founder\")\n",
    "plt.title(\"Number of Known Fundings per Founder\")"
   ]
  },
  {
   "cell_type": "code",
   "execution_count": null,
   "id": "c6b942fe",
   "metadata": {},
   "outputs": [],
   "source": [
    "# Taking a look at which \"startups\" were founded earlier than 2000\n",
    "complete_set.loc[(complete_set[\"Founders\"].str.split(',').str[0] == \"Byju Raveendran\") |\n",
    "                (complete_set[\"Founders\"].str.split(',').str[0] == \"Ashneer Grover\") |\n",
    "                (complete_set[\"Founders\"].str.split(',').str[0] == \"Saurabh Saxena\") |\n",
    "                (complete_set[\"Founders\"].str.split(',').str[0] == \"Gaurav Munjal\") |\n",
    "                 (complete_set[\"Founders\"].str.split(',').str[0] == \"Deepinder Goyal\") |\n",
    "                (complete_set[\"Founders\"].str.split(',').str[0] == \"bhavish Aggarwal\")]"
   ]
  },
  {
   "cell_type": "markdown",
   "id": "33411f09",
   "metadata": {},
   "source": [
    "Maybe beside the point, but we note here that Byju Raveendran's startups were involved in most deals over the period (12). This is followed by Ashneer Grover (10) with Saurabh Saxena (7) not far behind."
   ]
  },
  {
   "cell_type": "markdown",
   "id": "193cfa9a",
   "metadata": {},
   "source": [
    "#### 3.8.10 Investors"
   ]
  },
  {
   "cell_type": "code",
   "execution_count": null,
   "id": "631532e6",
   "metadata": {},
   "outputs": [],
   "source": [
    "complete_set[\"Investors\"].apply(str)\n",
    "complete_set[\"Investors\"] = complete_set[\"Investors\"].str.split(',').str[0]\n",
    "complete_set[\"Investors\"].fillna(\"Undisclosed\", inplace = True)\n",
    "complete_set[\"Investors\"].replace(\"  \",\" \", inplace = True)\n",
    "complete_set[\"Investors\"].replace(\"$Undisclosed\",\"Undisclosed\", inplace = True)\n",
    "investors = (complete_set.loc[:,\"Investors\"]).value_counts()\n",
    "investors"
   ]
  },
  {
   "cell_type": "code",
   "execution_count": null,
   "id": "ecb1d338",
   "metadata": {
    "scrolled": true
   },
   "outputs": [],
   "source": [
    "investors[1:].head(10).sort_values().plot.barh() # Filtering the top 10 investors by investment while excluding the \"Undisclosed\"\n",
    "plt.xlabel(\"Number of Investments Made\")\n",
    "plt.ylabel(\"Name of Investor\")\n",
    "plt.title(\"Number of Known Investments per Investor\")"
   ]
  },
  {
   "cell_type": "markdown",
   "id": "91ddb9ef",
   "metadata": {},
   "source": [
    "Despite filtering out the 627 unknown investors (data not available in the dataset), we note a total of about 1,245 different investors over the period.\n",
    "\n",
    "We also note that Venture Catalysts (52) and Inflection Point Ventures (42) made the most investments, by number of transactions, over the period. They are followed by Sequoia Capital India (25) and Tiger Global (24).\n",
    "\n",
    "Next up, we take a look at the amounts involved in the deals by the various investors."
   ]
  },
  {
   "cell_type": "code",
   "execution_count": null,
   "id": "bf18d42c",
   "metadata": {
    "scrolled": false
   },
   "outputs": [],
   "source": [
    "investors_set = (complete_set.groupby(by = \"Investors\").Amount.agg([\"count\",\"sum\", \"mean\", \"median\"]).sort_values(by = \"sum\", ascending = False))[1:]\n",
    "investors_set"
   ]
  },
  {
   "cell_type": "code",
   "execution_count": null,
   "id": "fc58c82c",
   "metadata": {
    "scrolled": true
   },
   "outputs": [],
   "source": [
    "sns.barplot(x = (investors_set[\"sum\"])[:15], y = (investors_set.index)[:15])\n",
    "plt.xlabel(\"Total Value of Investments\")\n",
    "plt.ylabel(\"Investor\")\n",
    "plt.title(\"Value of the Total Investments by Investor\")"
   ]
  },
  {
   "cell_type": "markdown",
   "id": "c9611e18",
   "metadata": {},
   "source": [
    "Even with the foregoing, we note that Silver Lake's single deal of USD 70bn investment tops the list of investments by value. They are followed in a distance by Salesforce Ventures with 2 transactions summing up to USD 3bn, Tiger Global (24 transactions) with USD 2.356bn, Facebook (2 transactions) with USD 2.31bn, and then General Atlantic (7 transactions) with USD 1.65bn. \n",
    "\n",
    "This creates the impression that number of deals does not necessarily imply high value of investments since only one of the top four investors involved in deals featured in the top 5 by value of total investments. Shall we attempt confirm? Yes."
   ]
  },
  {
   "cell_type": "code",
   "execution_count": null,
   "id": "bb0bd6cd",
   "metadata": {
    "scrolled": false
   },
   "outputs": [],
   "source": [
    "# Scatterplot to visualize the relationship between count of investment deals and total value of investments\n",
    "plt.figure(figsize = (20,12))\n",
    "sns.regplot(y = (investors_set[\"sum\"]), x = (investors_set[\"count\"]))\n",
    "#sns.lineplot(y = (investors_set[\"sum\"]), x = (investors_set[\"count\"]))\n",
    "plt.xlabel(\"Number of Investment Deals\")\n",
    "plt.ylabel(\"Total Value\")\n",
    "plt.title(\"Total Value of Investment Deals by Investor\")"
   ]
  },
  {
   "cell_type": "markdown",
   "id": "7d6b406e",
   "metadata": {},
   "source": [
    "From the plot, it is safe to conclude that there is no relationship between the number of investment deals and the monetary value of investments. It is however noteworthy that aside Tiger Global (24), investors with less than 10 transactions seemed to have made more investments by value."
   ]
  },
  {
   "cell_type": "code",
   "execution_count": null,
   "id": "dfe38802",
   "metadata": {
    "scrolled": false
   },
   "outputs": [],
   "source": [
    "# Exploring the monetary value of the average investment deal by an investor\n",
    "investors_set = investors_set.sort_values(by = \"median\", ascending = False)\n",
    "investors_set.head(10)"
   ]
  },
  {
   "cell_type": "code",
   "execution_count": null,
   "id": "59525d46",
   "metadata": {},
   "outputs": [],
   "source": [
    "# Due to it's outlying effect, Silver Lake will be excluded from the visualization to have a better look at the others\n",
    "sns.barplot(x = (investors_set[\"mean\"])[1:16], y = (investors_set.index)[1:16])\n",
    "plt.xlabel(\"Average Value of Investments\")\n",
    "plt.ylabel(\"Investor\")\n",
    "plt.title(\"Average Value of Investments by Investor\")"
   ]
  },
  {
   "cell_type": "markdown",
   "id": "dddff0d8",
   "metadata": {},
   "source": [
    "Here, we note that Salesforce Ventures (USD 1.5bn per deal) make the best investors after Silver Lake (USD 70bn for a single deal). Facebook (USD 1.15bn per deal), Canaan Valley Capital (USD 1bn for a single deal), and Carmignac (USD 800m for a single deal) also follow in that order.\n",
    "\n",
    "We note that the investors who made the biggest investments over the period were involved in less than 5 deals over the period. This implies that whichever startup intends to get funding from any of these investors have to get their work right. Given that these investors have invested in a variety of sectors, it is difficult to conclude that a startup is likely to land a funding deal with these top investors by investing in a particular sector. \n",
    "\n",
    "We must however not rule out the fact that the education sector had the most funding deals over the period and also tops this list (with the tourism & hospitality industry) as the most favoured sector (on average) by the top investors. We can therefore advice that, other things being equal, a startup that intends to get higher than average funding can consider the education sector as its first."
   ]
  },
  {
   "cell_type": "code",
   "execution_count": null,
   "id": "370c8242",
   "metadata": {
    "scrolled": true
   },
   "outputs": [],
   "source": [
    "which_sectors = complete_set.loc[(complete_set[\"Investors\"] == \"Silver Lake\") |\n",
    "                 (complete_set[\"Investors\"] == \"Salesforce Ventures\") |\n",
    "                 (complete_set[\"Investors\"] == \"Facebook\") |\n",
    "                 (complete_set[\"Investors\"] == \"Canaan Valley Capital\") |\n",
    "                 (complete_set[\"Investors\"] == \"Carmignac\") |\n",
    "                 (complete_set[\"Investors\"] == \"MyPreferred Transformation\") |\n",
    "                 (complete_set[\"Investors\"] == \"SoftBank Vision Fund\") |\n",
    "                 (complete_set[\"Investors\"] == \"South Africa’s Naspers Ventures\") |\n",
    "                 (complete_set[\"Investors\"] == \"Twitter Ventures\") |\n",
    "                 (complete_set[\"Investors\"] == \"Marquee international institutional investors\")]\n",
    "print(which_sectors[\"Sector\"].value_counts(), \"\\n\")\n",
    "which_sectors"
   ]
  },
  {
   "cell_type": "markdown",
   "id": "a6eef1da",
   "metadata": {},
   "source": [
    "# 4.0 More Analyses & Visualizations"
   ]
  },
  {
   "cell_type": "code",
   "execution_count": 4,
   "id": "9c1b1ad3",
   "metadata": {
    "scrolled": false
   },
   "outputs": [
    {
     "ename": "NameError",
     "evalue": "name 'complete_set' is not defined",
     "output_type": "error",
     "traceback": [
      "\u001b[1;31m---------------------------------------------------------------------------\u001b[0m",
      "\u001b[1;31mNameError\u001b[0m                                 Traceback (most recent call last)",
      "Input \u001b[1;32mIn [4]\u001b[0m, in \u001b[0;36m<cell line: 1>\u001b[1;34m()\u001b[0m\n\u001b[1;32m----> 1\u001b[0m \u001b[43mcomplete_set\u001b[49m\n",
      "\u001b[1;31mNameError\u001b[0m: name 'complete_set' is not defined"
     ]
    }
   ],
   "source": [
    "complete_set"
   ]
  },
  {
   "cell_type": "code",
   "execution_count": null,
   "id": "f0db04d4",
   "metadata": {
    "scrolled": false
   },
   "outputs": [],
   "source": [
    "complete_set.loc[complete_set[\"Amount\"] > 0.00]"
   ]
  },
  {
   "cell_type": "code",
   "execution_count": null,
   "id": "f8348669",
   "metadata": {},
   "outputs": [],
   "source": []
  },
  {
   "cell_type": "markdown",
   "id": "4a51840a",
   "metadata": {},
   "source": [
    "## Questions"
   ]
  },
  {
   "cell_type": "markdown",
   "id": "e4cf7c6a",
   "metadata": {},
   "source": [
    "### Which start-ups are found in the capital of India?"
   ]
  },
  {
   "cell_type": "code",
   "execution_count": 3,
   "id": "1fe6acab",
   "metadata": {},
   "outputs": [
    {
     "ename": "NameError",
     "evalue": "name 'complete_set' is not defined",
     "output_type": "error",
     "traceback": [
      "\u001b[1;31m---------------------------------------------------------------------------\u001b[0m",
      "\u001b[1;31mNameError\u001b[0m                                 Traceback (most recent call last)",
      "Input \u001b[1;32mIn [3]\u001b[0m, in \u001b[0;36m<cell line: 1>\u001b[1;34m()\u001b[0m\n\u001b[1;32m----> 1\u001b[0m start_up_found_in_New_delhi \u001b[38;5;241m=\u001b[39m \u001b[43mcomplete_set\u001b[49m\u001b[38;5;241m.\u001b[39mgroupby(\u001b[38;5;124m\"\u001b[39m\u001b[38;5;124mCompany Name\u001b[39m\u001b[38;5;124m\"\u001b[39m)[\u001b[38;5;124m\"\u001b[39m\u001b[38;5;124mHeadquarters\u001b[39m\u001b[38;5;124m\"\u001b[39m]\u001b[38;5;241m.\u001b[39msum()\u001b[38;5;241m.\u001b[39mreset_index()\n\u001b[0;32m      2\u001b[0m start_up_found_in_New_delhi\n",
      "\u001b[1;31mNameError\u001b[0m: name 'complete_set' is not defined"
     ]
    }
   ],
   "source": [
    "start_up_found_in_New_delhi = complete_set.groupby(\"Company Name\")[\"Headquarters\"].sum().reset_index()\n",
    "start_up_found_in_New_delhi"
   ]
  },
  {
   "cell_type": "markdown",
   "id": "466bf30a",
   "metadata": {},
   "source": [
    "### Which start-ups are found in the capital City (New Delhi)?"
   ]
  },
  {
   "cell_type": "code",
   "execution_count": null,
   "id": "88bdd04c",
   "metadata": {},
   "outputs": [],
   "source": [
    "start_up_found_in_New_delhi = complete_set[complete_set.Headquarters == \"New Delhi\"]\n",
    "start_up_found_in_New_delhi"
   ]
  },
  {
   "cell_type": "markdown",
   "id": "6867df2d",
   "metadata": {},
   "source": [
    "### 4.2 How is funding distributed across deals by location?"
   ]
  },
  {
   "cell_type": "code",
   "execution_count": null,
   "id": "3b58d032",
   "metadata": {
    "scrolled": true
   },
   "outputs": [],
   "source": [
    "by_location = complete_set.groupby(by = \"Headquarters\").Amount.agg([\"count\", \"sum\", \"mean\", \"median\"]).sort_values(by = \"sum\", ascending = False)\n",
    "by_location.head(10)"
   ]
  },
  {
   "cell_type": "code",
   "execution_count": null,
   "id": "d875debf",
   "metadata": {},
   "outputs": [],
   "source": [
    "sns.barplot(y = (by_location.index)[:10], x = (by_location[\"sum\"])[:10])\n",
    "plt.xlabel(\"Sum of Amounts Invested\")\n",
    "plt.ylabel(\"Location\")\n",
    "plt.title(\"Distribution of Investments per City\")"
   ]
  },
  {
   "cell_type": "code",
   "execution_count": null,
   "id": "74dfbb3a",
   "metadata": {
    "scrolled": true
   },
   "outputs": [],
   "source": [
    "# What is the sum total of investments over the period?\n",
    "total_investments = complete_set.Amount.sum()\n",
    "print(\"The sum total of investments over the period was USD \" + str(complete_set.Amount.sum()), \"\\n\")"
   ]
  },
  {
   "cell_type": "code",
   "execution_count": null,
   "id": "765b9b5e",
   "metadata": {},
   "outputs": [],
   "source": [
    "mumbai_percent = (230811847986.00/total_investments)*100\n",
    "bangalore_percent = (24170275334.00/total_investments)*100\n",
    "\n",
    "print(\"Mumbai-based startups took up \" + str(mumbai_percent) + \"% of total amounts invested over the period.\", \"\\n\", \n",
    "      \"Bangalore-based startups followed with \" + str(bangalore_percent) + \"% of total amounts invested over the period.\", \"\\n\")"
   ]
  },
  {
   "cell_type": "markdown",
   "id": "2221f3bf",
   "metadata": {},
   "source": [
    "Looking at the total value of deals by location, Mumbai leads with USD 230bn from 471 deals, averaging about USD 490m per deal. Bangalore (916 deals) follows in a distance with USD 24bn at USD 26m per deal. The top 5 is completed with Gurgaon-headquartered  startups (317 deals) receiving USD 6.9bn (USD 21.9m average), New Delhi-headquartered startups (230 deals) receiving USD 3.4bn (USD 14.9m average), and California-based startups (6 deals) receiving USD 3bn in funding at an average of USD 513m.\n",
    "\n",
    "We also note that startups headquartered in Mumbai and Bangalore alone got a cumulative 91% of the total funding over the period. This matches the null hypothesis that funding to startups is centralized around specific locations. *Based on this, the team may be advised to consider Mumbai as the first choice for the headquarters of the potential startup.*"
   ]
  },
  {
   "cell_type": "markdown",
   "id": "f2972ab0",
   "metadata": {},
   "source": [
    "### 4.3 Does number of deals translate into funding for the sectors?"
   ]
  },
  {
   "cell_type": "code",
   "execution_count": null,
   "id": "e9ac99a4",
   "metadata": {},
   "outputs": [],
   "source": [
    "# Recap of the top 10 sectors by number of deals\n",
    "unique_sectors.head(10)"
   ]
  },
  {
   "cell_type": "code",
   "execution_count": null,
   "id": "6a5da40a",
   "metadata": {},
   "outputs": [],
   "source": [
    "sector_wise = complete_set.groupby(by = \"Sector\").Amount.agg([\"count\", \"sum\", \"mean\", \"median\"]).sort_values(by = \"sum\", ascending = False)\n",
    "sector_wise.head(10)"
   ]
  },
  {
   "cell_type": "code",
   "execution_count": null,
   "id": "d5c36784",
   "metadata": {
    "scrolled": true
   },
   "outputs": [],
   "source": [
    "# Visualizing the top 10 sectors by total funding received by it's startups\n",
    "sns.barplot(y = sector_wise[:10].index, x = (sector_wise[\"sum\"])[:10])\n",
    "plt.xlabel(\"Total Value of Investment\")\n",
    "plt.ylabel(\"Sector\")\n",
    "plt.title(\"Total Value of Investments by Sector\")"
   ]
  },
  {
   "cell_type": "code",
   "execution_count": null,
   "id": "4cddceab",
   "metadata": {
    "scrolled": true
   },
   "outputs": [],
   "source": [
    "# Total percentage of funding to \n",
    "fintech_percent = (154792358725.00/total_investments)*100\n",
    "retail_percent = (70550380000.00/total_investments)*100\n",
    "fintech_percent+retail_percent"
   ]
  },
  {
   "cell_type": "code",
   "execution_count": null,
   "id": "306a0777",
   "metadata": {
    "scrolled": true
   },
   "outputs": [],
   "source": [
    "# Visualizing the median amounts invested per sector\n",
    "sns.barplot(y = sector_wise[:9].index, x = (sector_wise[\"median\"])[:9]) # Excluding the \"Multinational conglomerate company\"\n",
    "plt.xlabel(\"Median Value of Investment (in millions)\")\n",
    "plt.ylabel(\"Sector\")\n",
    "plt.title(\"Median Value of Investments by Sector\")"
   ]
  },
  {
   "cell_type": "markdown",
   "id": "da176938",
   "metadata": {},
   "source": [
    "Given that 7 out of the 10 sectors whose startups had the most deals were in the top 10 startups by funding received, we can conclude that number of deals has a positive relationship with the amount of funding. The Fintech sector led this time, receiving a total of USD 154bn with USD 5m as the median amount. Retail (USD 70bn total) came second with a USD 4m median, followed in order by the education (USD 6bn total) with a USD 1m median, e-commerce (USD 4.7bn total) with a USD 3.85m, and food & nutirition (USD 5bn total)\n",
    "\n",
    "From the second graph, we note that by total amounts invested, the Fintech sector (55%) and the Retail sector (25%) make up 80% of total funding received. By median value of investments, Fintech still leads the race, followed by Retail, E-commerce, Financial Services, and Automobiles and Automotives, in that order.\n",
    "\n",
    "These add to the assertion that funding is centralized around specific sectors."
   ]
  },
  {
   "cell_type": "markdown",
   "id": "c23d86ac",
   "metadata": {},
   "source": [
    "### 4.4 What is the average amount of funding for start-ups in: the sector with most funding, and the location with most funding?"
   ]
  },
  {
   "cell_type": "markdown",
   "id": "1cb1a93f",
   "metadata": {},
   "source": [
    "From earlier analyses, we know that the sector with the most funding is the Fintech sector with a total of USD 154bn, an average of USD 597m per deal, and USD 5m per deal median. For the location with most funding, we learnt that it was Mumbai with a total of USD 230bn, an average of USD 490m per deal and a USD 2m median."
   ]
  },
  {
   "cell_type": "code",
   "execution_count": null,
   "id": "c1c516eb",
   "metadata": {
    "scrolled": true
   },
   "outputs": [],
   "source": [
    "# Reminding ourselves of the summary stats of the amounts involved in deals over the period.\n",
    "complete_set[\"Amount\"].describe()"
   ]
  },
  {
   "cell_type": "markdown",
   "id": "b4b30614",
   "metadata": {},
   "source": [
    "From the description of the Amount column, we learn that the average deal over the period was worth USD 97m on average, and USD 1.6m median. \n",
    "\n",
    "Great. So how much did startups at the intersection of Mumbai and the Fintech sector receive per deal, and how does it compare to the sector, location, and general averages?"
   ]
  },
  {
   "cell_type": "code",
   "execution_count": null,
   "id": "fccfdf36",
   "metadata": {
    "scrolled": true
   },
   "outputs": [],
   "source": [
    "# Extracting data for deals involving startups in the Fintech sector and headquartered in Mumbai\n",
    "max_intersection = complete_set.loc[(complete_set[\"Headquarters\"] == \"Mumbai\") & \n",
    "                (complete_set[\"Sector\"] == \"Fintech\")]\n",
    "max_intersection"
   ]
  },
  {
   "cell_type": "code",
   "execution_count": null,
   "id": "a68fe689",
   "metadata": {},
   "outputs": [],
   "source": [
    "print(max_intersection[\"Amount\"].sum(), \"\\n\")\n",
    "max_intersection.describe()"
   ]
  },
  {
   "cell_type": "markdown",
   "id": "dfa42a35",
   "metadata": {},
   "source": [
    "First we note that startups that fall within the intersection of Mumbai and Fintech were involved in a total of 48 deals worth a cumulative USD 150bn over the period.\n",
    "\n",
    "Second, we note that each deal had an average worth of about USD 3bn, and a median of USD 3.8m. This implies that startups in the Fintech sector and headquartered in Mumbai receive more funding per deal on average. The median per deal is second to the median funding per deal of the Fintech sector. Based on these, it is safe to say that the intersection of Fintech and Mumbai is a sweet spot anyone who intends to venture into the Indian startup space may want to explore.\n",
    "\n",
    "The above data is summarized in the below."
   ]
  },
  {
   "cell_type": "code",
   "execution_count": null,
   "id": "6a93da50",
   "metadata": {},
   "outputs": [],
   "source": [
    "data = {\"Grouping\":[\"General\",\"Fintech sector\",\"Mumbai-based\",\"Fintech & Mumbai\"],\n",
    "       \"Mean Funding\":[\"97,892,761.19\", \"597,653,894.69\", \"490,046,386.38\", \"3,131,643,743.75\"],\n",
    "       \"Median Funding\":[\"1,600,000.00\", \"5,000,000.00\", \"2,000,000.00\", \"3,868,500.00\"]}\n",
    "data_summarized = pd.DataFrame(data)\n",
    "data_summarized"
   ]
  },
  {
   "cell_type": "markdown",
   "id": "0987f1e3",
   "metadata": {},
   "source": [
    "### 4.5 How does the breakdown by stages of funding look?"
   ]
  },
  {
   "cell_type": "code",
   "execution_count": null,
   "id": "2dadfe21",
   "metadata": {
    "scrolled": true
   },
   "outputs": [],
   "source": [
    "stage_wise = complete_set.groupby(by = \"Funding Stage\").Amount.agg([\"count\", \"sum\", \"mean\", \"median\"]).sort_values(\n",
    "    by = \"sum\", ascending = False)\n",
    "stage_wise"
   ]
  },
  {
   "cell_type": "code",
   "execution_count": null,
   "id": "0b128275",
   "metadata": {},
   "outputs": [],
   "source": [
    "# Plotting the top 10 stages/rounds of funding in terms of amounts invested\n",
    "sns.barplot(y = stage_wise[:10].index, x = (stage_wise[\"sum\"])[:10])\n",
    "plt.xlabel(\"Funding Stage\")\n",
    "plt.ylabel(\"Total Amount Invested\")\n",
    "plt.title(\"Total Amount Invested per Funding Stage/Round\")"
   ]
  },
  {
   "cell_type": "markdown",
   "id": "a28c598c",
   "metadata": {},
   "source": [
    "As noted earlier, a large portion of the funding stages was undisclosed. For those that were disclosed, a debt (61 deals) was the most common type of funding with a total investment of USD 150bn (USD 2bn average). This was followed in the distance by Series C (USD 5bn), Series B (USD 3.8bn), and Series D (USD 3.6), with each averaging USD 47m, USD 28m, and USD 69m respectively.\n",
    "\n",
    "The Seed round, which had the highest number of deals*, had about USD 1.5m per deal, which should be good enough to hold a startup down for sometime as it focuses on survival and other funding sources."
   ]
  },
  {
   "cell_type": "markdown",
   "id": "1eee1d7f",
   "metadata": {},
   "source": [
    "### 4.6 Which startups were most favoured by investors?"
   ]
  },
  {
   "cell_type": "code",
   "execution_count": null,
   "id": "9ec4f995",
   "metadata": {},
   "outputs": [],
   "source": [
    "company_wise = complete_set.groupby(by = \"Company Name\").Amount.agg([\"count\", \"sum\", \"mean\"]).sort_values(by = \"sum\",\n",
    "                                                                                                         ascending = False)\n",
    "company_wise.head(10)"
   ]
  },
  {
   "cell_type": "markdown",
   "id": "8d12f4c1",
   "metadata": {},
   "source": [
    "Looking at the number of deals, the most favoured startups were Byju's (10), Bharatpe (10) and Zomato (7). On the other hand, when we assess by the amount of funding received, Alteria Capital (USD 150bn), Reliance retail ventures ltd (USD 70bn), and Snowflake (USD 3bn) were the investors' favorites. Byju's, Zomato, and Oyo make the top 10 in both assessments implying that they are well favoured by investors both by number of deals and by amounts received."
   ]
  },
  {
   "cell_type": "markdown",
   "id": "080d4289",
   "metadata": {},
   "source": [
    "# 5.0 Conclusions and Recommendations"
   ]
  },
  {
   "cell_type": "markdown",
   "id": "957a1161",
   "metadata": {},
   "source": [
    "### 5.1 the Hypothesis"
   ]
  },
  {
   "cell_type": "markdown",
   "id": "6954e3e0",
   "metadata": {},
   "source": [
    "With the above in mind, it is safe to accept the null hypothesis, given that funding to startups over the period was centralized around particular locations (Mumbai and Bangalore) and particular sectors (Fintech and Retail)"
   ]
  },
  {
   "cell_type": "markdown",
   "id": "2014cba6",
   "metadata": {},
   "source": [
    "### 5.2 Advice to the Team"
   ]
  },
  {
   "cell_type": "markdown",
   "id": "dce7b168",
   "metadata": {},
   "source": [
    "- Prioritize the fintech, retail, and education sectors for further studies into the possible establishment of the startup.\n",
    "- Prioritize Bangalore, Mumbai and Gurgaon as the possible locations for the startup.\n",
    "- The likeliest source of funding is debt, which may come with some conditionalities. It is then followed by Series C and Series B. Even so, an average startup gets an average of about USD 1.5m at the Seed round.\n",
    "- Seek alternative sources of funding during the early years, as you target survival and growth, as funding usually comes in after a year or two of establishment."
   ]
  }
 ],
 "metadata": {
  "kernelspec": {
   "display_name": "Python 3 (ipykernel)",
   "language": "python",
   "name": "python3"
  },
  "language_info": {
   "codemirror_mode": {
    "name": "ipython",
    "version": 3
   },
   "file_extension": ".py",
   "mimetype": "text/x-python",
   "name": "python",
   "nbconvert_exporter": "python",
   "pygments_lexer": "ipython3",
   "version": "3.10.4"
  },
  "vscode": {
   "interpreter": {
    "hash": "1a4ce4bc5f820c6c47c7565419227e532b3448deb4a621e77e51010fbe64b648"
   }
  }
 },
 "nbformat": 4,
 "nbformat_minor": 5
}
